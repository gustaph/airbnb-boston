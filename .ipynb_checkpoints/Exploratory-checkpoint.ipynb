{
 "cells": [
  {
   "cell_type": "markdown",
   "id": "d54a61fc-89d8-4c3b-b2c1-6be8c0843c41",
   "metadata": {},
   "source": [
    "### **Udacity Data Scientist Nanodegree** - CRISP-DM model\n",
    "---"
   ]
  },
  {
   "cell_type": "markdown",
   "id": "da8950e7-5138-438d-8fe5-88e06f381984",
   "metadata": {},
   "source": [
    "# **1. Business Understanding**"
   ]
  },
  {
   "cell_type": "markdown",
   "id": "afaf9e0a-b088-4c4b-a69c-6d4ab12f6803",
   "metadata": {},
   "source": [
    "**Airbnb** is an American company that operates an online marketplace for lodging, primarily homestays for vacation rentals, and tourism activities [[1]](https://en.wikipedia.org/wiki/Airbnb#Overview). Here, millions of hosts and travelers choose to advertise their space and book unique accommodations, anywhere in the world. In addition, Airbnb experience hosts share their passions and interests with travelers and locals alike [[2]](https://www.airbnb.com.br/help/article/2503/o-que-é-o-airbnb-e-como-ele-funciona).\n",
    "\n",
    "\n",
    "Made available by [Kaggle](https://www.kaggle.com/airbnb/boston), we're going to venture into Boston Airbnb dataset and try to answer the questions that the data points to us.\n",
    "\n",
    "1. *When do people usually visit Boston?*\n",
    "2. *Who are the users who rent on AirBnB?*\n",
    "3. *Which fields most influence rental prices?*\n",
    "4. *Bonus: But after all, what do customers have to say?*\n",
    "\n",
    "**How about you? What motivates you to discover new places?**"
   ]
  },
  {
   "cell_type": "markdown",
   "id": "18eb964c-bc51-4f4d-8900-b0aad5d43196",
   "metadata": {},
   "source": [
    "# **2. Data Understanding & Preparation**"
   ]
  },
  {
   "cell_type": "code",
   "execution_count": 1,
   "id": "27c4d568-df74-4c81-85ed-58d52219c621",
   "metadata": {},
   "outputs": [
    {
     "name": "stderr",
     "output_type": "stream",
     "text": [
      "[nltk_data] Downloading package vader_lexicon to\n",
      "[nltk_data]     C:\\Users\\gusta\\AppData\\Roaming\\nltk_data...\n",
      "[nltk_data]   Package vader_lexicon is already up-to-date!\n"
     ]
    }
   ],
   "source": [
    "# data preparation\n",
    "import pandas as pd\n",
    "import numpy as np\n",
    "import seaborn as sns\n",
    "import matplotlib.pyplot as plt\n",
    "%matplotlib inline\n",
    "from calendar import month_abbr\n",
    "\n",
    "# modeling\n",
    "from sklearn.linear_model import LinearRegression\n",
    "from sklearn.model_selection import train_test_split\n",
    "from sklearn.metrics import r2_score, mean_squared_error\n",
    "from sklearn.decomposition import PCA\n",
    "\n",
    "# sentiment analysis\n",
    "import nltk\n",
    "import string\n",
    "nltk.download('vader_lexicon')\n",
    "from nltk.probability import FreqDist\n",
    "from nltk.corpus import stopwords\n",
    "from nltk.sentiment import SentimentIntensityAnalyzer\n",
    "from wordcloud import WordCloud"
   ]
  },
  {
   "cell_type": "code",
   "execution_count": 2,
   "id": "e2c84292-a2e4-472a-aefb-502d95edae60",
   "metadata": {},
   "outputs": [],
   "source": [
    "def get_explanatory(df: pd.DataFrame) -> None:\n",
    "    \"\"\"\n",
    "    \n",
    "    Args:\n",
    "        - df: pandas DataFrame with data\n",
    "    \n",
    "    Return:\n",
    "        - Exploratory analysis of the data\n",
    "    \"\"\"    \n",
    "    print(\"[+] numer of rows: \", df.shape[0])\n",
    "    print(\"[+] numer of columns: \", df.shape[1])\n",
    "    print(\"[+] null percentage:\")\n",
    "    print(df.isnull().mean())\n",
    "    index_max_missing_values = np.argmax(df.isnull().mean())\n",
    "    print(\"[+] max. missing values (column): \", df.isnull().mean().keys()[index_max_missing_values])\n",
    "    print(\"[+] columns:\")\n",
    "    print(df.columns)\n",
    "    print(\"[+] data types II: \", set(df.dtypes))\n",
    "    return"
   ]
  },
  {
   "cell_type": "markdown",
   "id": "b03519a3-1746-425a-b2e2-2084b6a374a2",
   "metadata": {},
   "source": [
    "## **CALENDAR dataset**\n",
    "---"
   ]
  },
  {
   "cell_type": "code",
   "execution_count": 3,
   "id": "8ce7505e-767f-43b3-a168-216158cff48f",
   "metadata": {},
   "outputs": [
    {
     "data": {
      "text/html": [
       "<div>\n",
       "<style scoped>\n",
       "    .dataframe tbody tr th:only-of-type {\n",
       "        vertical-align: middle;\n",
       "    }\n",
       "\n",
       "    .dataframe tbody tr th {\n",
       "        vertical-align: top;\n",
       "    }\n",
       "\n",
       "    .dataframe thead th {\n",
       "        text-align: right;\n",
       "    }\n",
       "</style>\n",
       "<table border=\"1\" class=\"dataframe\">\n",
       "  <thead>\n",
       "    <tr style=\"text-align: right;\">\n",
       "      <th></th>\n",
       "      <th>listing_id</th>\n",
       "      <th>date</th>\n",
       "      <th>available</th>\n",
       "      <th>price</th>\n",
       "    </tr>\n",
       "  </thead>\n",
       "  <tbody>\n",
       "    <tr>\n",
       "      <th>0</th>\n",
       "      <td>12147973</td>\n",
       "      <td>2017-09-05</td>\n",
       "      <td>f</td>\n",
       "      <td>NaN</td>\n",
       "    </tr>\n",
       "    <tr>\n",
       "      <th>1</th>\n",
       "      <td>12147973</td>\n",
       "      <td>2017-09-04</td>\n",
       "      <td>f</td>\n",
       "      <td>NaN</td>\n",
       "    </tr>\n",
       "    <tr>\n",
       "      <th>2</th>\n",
       "      <td>12147973</td>\n",
       "      <td>2017-09-03</td>\n",
       "      <td>f</td>\n",
       "      <td>NaN</td>\n",
       "    </tr>\n",
       "  </tbody>\n",
       "</table>\n",
       "</div>"
      ],
      "text/plain": [
       "   listing_id        date available price\n",
       "0    12147973  2017-09-05         f   NaN\n",
       "1    12147973  2017-09-04         f   NaN\n",
       "2    12147973  2017-09-03         f   NaN"
      ]
     },
     "execution_count": 3,
     "metadata": {},
     "output_type": "execute_result"
    }
   ],
   "source": [
    "calendar = pd.read_csv(\"boston/calendar.csv\")\n",
    "calendar.head(3)"
   ]
  },
  {
   "cell_type": "code",
   "execution_count": 4,
   "id": "54d9cd62-f376-4140-a86e-fda884c80e02",
   "metadata": {},
   "outputs": [
    {
     "name": "stdout",
     "output_type": "stream",
     "text": [
      "[+] numer of rows:  1308890\n",
      "[+] numer of columns:  4\n",
      "[+] null percentage:\n",
      "listing_id    0.000000\n",
      "date          0.000000\n",
      "available     0.000000\n",
      "price         0.508716\n",
      "dtype: float64\n",
      "[+] max. missing values (column):  price\n",
      "[+] columns:\n",
      "Index(['listing_id', 'date', 'available', 'price'], dtype='object')\n",
      "[+] data types II:  {dtype('O'), dtype('int64')}\n"
     ]
    }
   ],
   "source": [
    "get_explanatory(calendar)"
   ]
  },
  {
   "cell_type": "markdown",
   "id": "69fcf002-85d5-499f-9e18-d94cbb598c16",
   "metadata": {},
   "source": [
    "## Overview\n",
    "  Just over 50% of the prices are <i>NaNs</i>. However, null prices correspond to unavailable flights indicated by the letter <b><i>f</i></b> in the data set."
   ]
  },
  {
   "cell_type": "code",
   "execution_count": 5,
   "id": "b4da3922-ea42-47d5-a842-12d78da87438",
   "metadata": {},
   "outputs": [
    {
     "data": {
      "text/plain": [
       "365    65.0\n",
       "366    65.0\n",
       "367    65.0\n",
       "Name: price, dtype: float64"
      ]
     },
     "execution_count": 5,
     "metadata": {},
     "output_type": "execute_result"
    }
   ],
   "source": [
    "# currently the price data type is string, so we should make it float\n",
    "\n",
    "calendar['price'] = calendar.price.replace('[\\$,]', '', regex=True).astype(float) # modifying the price data type\n",
    "calendar.price[calendar.price.notnull()].head(3) # confirming changes"
   ]
  },
  {
   "cell_type": "code",
   "execution_count": 6,
   "id": "ecdb72f4-75b6-4faf-bccc-1b58e82c6076",
   "metadata": {},
   "outputs": [],
   "source": [
    "\"\"\"\n",
    "split date into day-month-year columns\n",
    "\n",
    "checkout pandas DateTimeIndex documentation: https://pandas.pydata.org/pandas-docs/stable/reference/api/pandas.DatetimeIndex.html\n",
    "\"\"\"\n",
    "\n",
    "calendar_aux = calendar.copy()\n",
    "calendar_aux['day'] = pd.DatetimeIndex(calendar_aux['date']).day\n",
    "calendar_aux['month'] = pd.DatetimeIndex(calendar_aux['date']).month\n",
    "calendar_aux['year'] = pd.DatetimeIndex(calendar_aux['date']).year"
   ]
  },
  {
   "cell_type": "code",
   "execution_count": 7,
   "id": "5c2b68f5-d4f9-4fe8-aca3-fa6f85ae7329",
   "metadata": {},
   "outputs": [
    {
     "data": {
      "text/html": [
       "<div>\n",
       "<style scoped>\n",
       "    .dataframe tbody tr th:only-of-type {\n",
       "        vertical-align: middle;\n",
       "    }\n",
       "\n",
       "    .dataframe tbody tr th {\n",
       "        vertical-align: top;\n",
       "    }\n",
       "\n",
       "    .dataframe thead th {\n",
       "        text-align: right;\n",
       "    }\n",
       "</style>\n",
       "<table border=\"1\" class=\"dataframe\">\n",
       "  <thead>\n",
       "    <tr style=\"text-align: right;\">\n",
       "      <th></th>\n",
       "      <th>listing_id</th>\n",
       "      <th>date</th>\n",
       "      <th>available</th>\n",
       "      <th>price</th>\n",
       "      <th>day</th>\n",
       "      <th>month</th>\n",
       "      <th>year</th>\n",
       "    </tr>\n",
       "  </thead>\n",
       "  <tbody>\n",
       "    <tr>\n",
       "      <th>0</th>\n",
       "      <td>12147973</td>\n",
       "      <td>2017-09-05</td>\n",
       "      <td>f</td>\n",
       "      <td>NaN</td>\n",
       "      <td>5</td>\n",
       "      <td>Sep</td>\n",
       "      <td>2017</td>\n",
       "    </tr>\n",
       "    <tr>\n",
       "      <th>1</th>\n",
       "      <td>12147973</td>\n",
       "      <td>2017-09-04</td>\n",
       "      <td>f</td>\n",
       "      <td>NaN</td>\n",
       "      <td>4</td>\n",
       "      <td>Sep</td>\n",
       "      <td>2017</td>\n",
       "    </tr>\n",
       "    <tr>\n",
       "      <th>2</th>\n",
       "      <td>12147973</td>\n",
       "      <td>2017-09-03</td>\n",
       "      <td>f</td>\n",
       "      <td>NaN</td>\n",
       "      <td>3</td>\n",
       "      <td>Sep</td>\n",
       "      <td>2017</td>\n",
       "    </tr>\n",
       "    <tr>\n",
       "      <th>3</th>\n",
       "      <td>12147973</td>\n",
       "      <td>2017-09-02</td>\n",
       "      <td>f</td>\n",
       "      <td>NaN</td>\n",
       "      <td>2</td>\n",
       "      <td>Sep</td>\n",
       "      <td>2017</td>\n",
       "    </tr>\n",
       "    <tr>\n",
       "      <th>4</th>\n",
       "      <td>12147973</td>\n",
       "      <td>2017-09-01</td>\n",
       "      <td>f</td>\n",
       "      <td>NaN</td>\n",
       "      <td>1</td>\n",
       "      <td>Sep</td>\n",
       "      <td>2017</td>\n",
       "    </tr>\n",
       "  </tbody>\n",
       "</table>\n",
       "</div>"
      ],
      "text/plain": [
       "   listing_id        date available  price  day month  year\n",
       "0    12147973  2017-09-05         f    NaN    5   Sep  2017\n",
       "1    12147973  2017-09-04         f    NaN    4   Sep  2017\n",
       "2    12147973  2017-09-03         f    NaN    3   Sep  2017\n",
       "3    12147973  2017-09-02         f    NaN    2   Sep  2017\n",
       "4    12147973  2017-09-01         f    NaN    1   Sep  2017"
      ]
     },
     "execution_count": 7,
     "metadata": {},
     "output_type": "execute_result"
    }
   ],
   "source": [
    "\"\"\"\n",
    "translate integer months to string i.e.  01 -> January (Jan)\n",
    "\"\"\"\n",
    "\n",
    "calendar_aux['month'] = calendar_aux['month'].apply(lambda month: month_abbr[month])\n",
    "calendar_aux.head()"
   ]
  },
  {
   "cell_type": "code",
   "execution_count": 8,
   "id": "3f727413-942e-4e47-a293-f849aca45bb4",
   "metadata": {},
   "outputs": [
    {
     "name": "stdout",
     "output_type": "stream",
     "text": [
      "null price percentage: 0.0%    calendar shape: (643037, 7)\n"
     ]
    }
   ],
   "source": [
    "calendar_aux.dropna(subset=['price'], axis=0, inplace=True) # drop rows with NaN prices\n",
    "print(f\"null price percentage: {calendar_aux['price'].isnull().mean()}%    calendar shape: {calendar_aux.shape}\")"
   ]
  },
  {
   "cell_type": "code",
   "execution_count": 9,
   "id": "6e12b4e3-e3d1-4673-a1d6-2319cdec98af",
   "metadata": {},
   "outputs": [
    {
     "data": {
      "image/png": "[encoded data removed]",
      "text/plain": [
       "<Figure size 432x288 with 1 Axes>"
      ]
     },
     "metadata": {
      "needs_background": "light"
     },
     "output_type": "display_data"
    }
   ],
   "source": [
    "calendar_aux.month.value_counts().plot(kind='bar', rot=0, title=\"Requests per month\", color=\"royalblue\");"
   ]
  },
  {
   "cell_type": "code",
   "execution_count": 10,
   "id": "9a525167-98c3-4ee6-98e2-5897b569fd1a",
   "metadata": {},
   "outputs": [
    {
     "data": {
      "image/png": "[encoded data removed]",
      "text/plain": [
       "<Figure size 1080x360 with 2 Axes>"
      ]
     },
     "metadata": {
      "needs_background": "light"
     },
     "output_type": "display_data"
    }
   ],
   "source": [
    "plt.figure(figsize=(15,5))\n",
    "\n",
    "plt.subplot(121)\n",
    "(calendar_aux.groupby(['month'])['price'].sum() / (calendar_aux.shape[0] - calendar_aux.price.isnull().sum())).sort_values(ascending=False).plot(kind=\"bar\", ylabel=\"price (MEAN)\", rot=0, title=\"Price per month\", color=\"royalblue\");\n",
    "\n",
    "plt.subplot(122)\n",
    "calendar_aux.groupby(['month'])['price'].sum().sort_values(ascending=False).plot(kind=\"bar\", ylabel=\"price x 1e7 (SUM)\", rot=0, title=\"Price per month\", color=\"royalblue\");"
   ]
  },
  {
   "cell_type": "markdown",
   "id": "e441e11a-0cb0-4cd8-bb51-5ea712f88513",
   "metadata": {},
   "source": [
    "#### **Explanation**\n",
    "---\n",
    "\n",
    "##### **When do people usually visit Boston?**\n",
    "\n",
    "   According to the [U.S. News website](https://travel.usnews.com/Boston_MA/When_To_Visit/), the best time to visit Boston is from June to October due to the more pleasant weather provided by autumn. It is, therefore, the most expensive time to visit due to the number of tourists who come to the place for events that take place in that period.\n",
    "\n",
    "\n",
    "\n",
    "   The data, however, present another perspective. <b>Requests per month</b> shows that the largest number of rents was made in the months of January, December, and November, which were also the most profitable months when analyzing both <b>Price per month</b>. These months, according to the [Santorini Dave website](https://santorinidave.com/best-time-to-visit-boston) has fewer visitors due to cold weather, making prices lower, confirming the peaks on the charts."
   ]
  },
  {
   "cell_type": "code",
   "execution_count": 11,
   "id": "39d12997-e785-49a8-ae29-40a9b44d4b52",
   "metadata": {},
   "outputs": [
    {
     "data": {
      "text/plain": [
       "month\n",
       "Nov    11949813.0\n",
       "Dec    11748139.0\n",
       "Jan    11549466.0\n",
       "Aug    11297226.0\n",
       "Jul    11129255.0\n",
       "Oct    10817676.0\n",
       "May    10382979.0\n",
       "Jun    10363503.0\n",
       "Feb    10280396.0\n",
       "Apr    10135248.0\n",
       "Mar    10032940.0\n",
       "Sep     7916920.0\n",
       "Name: price, dtype: float64"
      ]
     },
     "execution_count": 11,
     "metadata": {},
     "output_type": "execute_result"
    }
   ],
   "source": [
    "calendar_aux.groupby(['month'])['price'].sum().sort_values(ascending=False)"
   ]
  },
  {
   "cell_type": "markdown",
   "id": "7d827590-620a-473e-9111-f7f1f56153bd",
   "metadata": {},
   "source": [
    "## **LISTINGS dataset**\n",
    "---"
   ]
  },
  {
   "cell_type": "code",
   "execution_count": 12,
   "id": "971dc86b-f4f4-4e0a-a681-40b332d66c63",
   "metadata": {},
   "outputs": [
    {
     "data": {
      "text/html": [
       "<div>\n",
       "<style scoped>\n",
       "    .dataframe tbody tr th:only-of-type {\n",
       "        vertical-align: middle;\n",
       "    }\n",
       "\n",
       "    .dataframe tbody tr th {\n",
       "        vertical-align: top;\n",
       "    }\n",
       "\n",
       "    .dataframe thead th {\n",
       "        text-align: right;\n",
       "    }\n",
       "</style>\n",
       "<table border=\"1\" class=\"dataframe\">\n",
       "  <thead>\n",
       "    <tr style=\"text-align: right;\">\n",
       "      <th></th>\n",
       "      <th>id</th>\n",
       "      <th>listing_url</th>\n",
       "      <th>scrape_id</th>\n",
       "      <th>last_scraped</th>\n",
       "      <th>name</th>\n",
       "      <th>summary</th>\n",
       "      <th>space</th>\n",
       "      <th>description</th>\n",
       "      <th>experiences_offered</th>\n",
       "      <th>neighborhood_overview</th>\n",
       "      <th>...</th>\n",
       "      <th>review_scores_value</th>\n",
       "      <th>requires_license</th>\n",
       "      <th>license</th>\n",
       "      <th>jurisdiction_names</th>\n",
       "      <th>instant_bookable</th>\n",
       "      <th>cancellation_policy</th>\n",
       "      <th>require_guest_profile_picture</th>\n",
       "      <th>require_guest_phone_verification</th>\n",
       "      <th>calculated_host_listings_count</th>\n",
       "      <th>reviews_per_month</th>\n",
       "    </tr>\n",
       "  </thead>\n",
       "  <tbody>\n",
       "    <tr>\n",
       "      <th>0</th>\n",
       "      <td>12147973</td>\n",
       "      <td>https://www.airbnb.com/rooms/12147973</td>\n",
       "      <td>20160906204935</td>\n",
       "      <td>2016-09-07</td>\n",
       "      <td>Sunny Bungalow in the City</td>\n",
       "      <td>Cozy, sunny, family home.  Master bedroom high...</td>\n",
       "      <td>The house has an open and cozy feel at the sam...</td>\n",
       "      <td>Cozy, sunny, family home.  Master bedroom high...</td>\n",
       "      <td>none</td>\n",
       "      <td>Roslindale is quiet, convenient and friendly. ...</td>\n",
       "      <td>...</td>\n",
       "      <td>NaN</td>\n",
       "      <td>f</td>\n",
       "      <td>NaN</td>\n",
       "      <td>NaN</td>\n",
       "      <td>f</td>\n",
       "      <td>moderate</td>\n",
       "      <td>f</td>\n",
       "      <td>f</td>\n",
       "      <td>1</td>\n",
       "      <td>NaN</td>\n",
       "    </tr>\n",
       "    <tr>\n",
       "      <th>1</th>\n",
       "      <td>3075044</td>\n",
       "      <td>https://www.airbnb.com/rooms/3075044</td>\n",
       "      <td>20160906204935</td>\n",
       "      <td>2016-09-07</td>\n",
       "      <td>Charming room in pet friendly apt</td>\n",
       "      <td>Charming and quiet room in a second floor 1910...</td>\n",
       "      <td>Small but cozy and quite room with a full size...</td>\n",
       "      <td>Charming and quiet room in a second floor 1910...</td>\n",
       "      <td>none</td>\n",
       "      <td>The room is in Roslindale, a diverse and prima...</td>\n",
       "      <td>...</td>\n",
       "      <td>9.0</td>\n",
       "      <td>f</td>\n",
       "      <td>NaN</td>\n",
       "      <td>NaN</td>\n",
       "      <td>t</td>\n",
       "      <td>moderate</td>\n",
       "      <td>f</td>\n",
       "      <td>f</td>\n",
       "      <td>1</td>\n",
       "      <td>1.30</td>\n",
       "    </tr>\n",
       "    <tr>\n",
       "      <th>2</th>\n",
       "      <td>6976</td>\n",
       "      <td>https://www.airbnb.com/rooms/6976</td>\n",
       "      <td>20160906204935</td>\n",
       "      <td>2016-09-07</td>\n",
       "      <td>Mexican Folk Art Haven in Boston</td>\n",
       "      <td>Come stay with a friendly, middle-aged guy in ...</td>\n",
       "      <td>Come stay with a friendly, middle-aged guy in ...</td>\n",
       "      <td>Come stay with a friendly, middle-aged guy in ...</td>\n",
       "      <td>none</td>\n",
       "      <td>The LOCATION: Roslindale is a safe and diverse...</td>\n",
       "      <td>...</td>\n",
       "      <td>10.0</td>\n",
       "      <td>f</td>\n",
       "      <td>NaN</td>\n",
       "      <td>NaN</td>\n",
       "      <td>f</td>\n",
       "      <td>moderate</td>\n",
       "      <td>t</td>\n",
       "      <td>f</td>\n",
       "      <td>1</td>\n",
       "      <td>0.47</td>\n",
       "    </tr>\n",
       "  </tbody>\n",
       "</table>\n",
       "<p>3 rows × 95 columns</p>\n",
       "</div>"
      ],
      "text/plain": [
       "         id                            listing_url       scrape_id  \\\n",
       "0  12147973  https://www.airbnb.com/rooms/12147973  20160906204935   \n",
       "1   3075044   https://www.airbnb.com/rooms/3075044  20160906204935   \n",
       "2      6976      https://www.airbnb.com/rooms/6976  20160906204935   \n",
       "\n",
       "  last_scraped                               name  \\\n",
       "0   2016-09-07         Sunny Bungalow in the City   \n",
       "1   2016-09-07  Charming room in pet friendly apt   \n",
       "2   2016-09-07   Mexican Folk Art Haven in Boston   \n",
       "\n",
       "                                             summary  \\\n",
       "0  Cozy, sunny, family home.  Master bedroom high...   \n",
       "1  Charming and quiet room in a second floor 1910...   \n",
       "2  Come stay with a friendly, middle-aged guy in ...   \n",
       "\n",
       "                                               space  \\\n",
       "0  The house has an open and cozy feel at the sam...   \n",
       "1  Small but cozy and quite room with a full size...   \n",
       "2  Come stay with a friendly, middle-aged guy in ...   \n",
       "\n",
       "                                         description experiences_offered  \\\n",
       "0  Cozy, sunny, family home.  Master bedroom high...                none   \n",
       "1  Charming and quiet room in a second floor 1910...                none   \n",
       "2  Come stay with a friendly, middle-aged guy in ...                none   \n",
       "\n",
       "                               neighborhood_overview  ... review_scores_value  \\\n",
       "0  Roslindale is quiet, convenient and friendly. ...  ...                 NaN   \n",
       "1  The room is in Roslindale, a diverse and prima...  ...                 9.0   \n",
       "2  The LOCATION: Roslindale is a safe and diverse...  ...                10.0   \n",
       "\n",
       "  requires_license license jurisdiction_names instant_bookable  \\\n",
       "0                f     NaN                NaN                f   \n",
       "1                f     NaN                NaN                t   \n",
       "2                f     NaN                NaN                f   \n",
       "\n",
       "  cancellation_policy require_guest_profile_picture  \\\n",
       "0            moderate                             f   \n",
       "1            moderate                             f   \n",
       "2            moderate                             t   \n",
       "\n",
       "  require_guest_phone_verification calculated_host_listings_count  \\\n",
       "0                                f                              1   \n",
       "1                                f                              1   \n",
       "2                                f                              1   \n",
       "\n",
       "   reviews_per_month  \n",
       "0                NaN  \n",
       "1               1.30  \n",
       "2               0.47  \n",
       "\n",
       "[3 rows x 95 columns]"
      ]
     },
     "execution_count": 12,
     "metadata": {},
     "output_type": "execute_result"
    }
   ],
   "source": [
    "listings = pd.read_csv(\"boston/listings.csv\", parse_dates=['host_since'])\n",
    "listings.head(3)"
   ]
  },
  {
   "cell_type": "code",
   "execution_count": 13,
   "id": "8c33c3e0-54af-41f7-9156-0e7afed8f96f",
   "metadata": {},
   "outputs": [
    {
     "name": "stdout",
     "output_type": "stream",
     "text": [
      "[+] numer of rows:  3585\n",
      "[+] numer of columns:  95\n",
      "[+] null percentage:\n",
      "id                                  0.000000\n",
      "listing_url                         0.000000\n",
      "scrape_id                           0.000000\n",
      "last_scraped                        0.000000\n",
      "name                                0.000000\n",
      "                                      ...   \n",
      "cancellation_policy                 0.000000\n",
      "require_guest_profile_picture       0.000000\n",
      "require_guest_phone_verification    0.000000\n",
      "calculated_host_listings_count      0.000000\n",
      "reviews_per_month                   0.210879\n",
      "Length: 95, dtype: float64\n",
      "[+] max. missing values (column):  neighbourhood_group_cleansed\n",
      "[+] columns:\n",
      "Index(['id', 'listing_url', 'scrape_id', 'last_scraped', 'name', 'summary',\n",
      "       'space', 'description', 'experiences_offered', 'neighborhood_overview',\n",
      "       'notes', 'transit', 'access', 'interaction', 'house_rules',\n",
      "       'thumbnail_url', 'medium_url', 'picture_url', 'xl_picture_url',\n",
      "       'host_id', 'host_url', 'host_name', 'host_since', 'host_location',\n",
      "       'host_about', 'host_response_time', 'host_response_rate',\n",
      "       'host_acceptance_rate', 'host_is_superhost', 'host_thumbnail_url',\n",
      "       'host_picture_url', 'host_neighbourhood', 'host_listings_count',\n",
      "       'host_total_listings_count', 'host_verifications',\n",
      "       'host_has_profile_pic', 'host_identity_verified', 'street',\n",
      "       'neighbourhood', 'neighbourhood_cleansed',\n",
      "       'neighbourhood_group_cleansed', 'city', 'state', 'zipcode', 'market',\n",
      "       'smart_location', 'country_code', 'country', 'latitude', 'longitude',\n",
      "       'is_location_exact', 'property_type', 'room_type', 'accommodates',\n",
      "       'bathrooms', 'bedrooms', 'beds', 'bed_type', 'amenities', 'square_feet',\n",
      "       'price', 'weekly_price', 'monthly_price', 'security_deposit',\n",
      "       'cleaning_fee', 'guests_included', 'extra_people', 'minimum_nights',\n",
      "       'maximum_nights', 'calendar_updated', 'has_availability',\n",
      "       'availability_30', 'availability_60', 'availability_90',\n",
      "       'availability_365', 'calendar_last_scraped', 'number_of_reviews',\n",
      "       'first_review', 'last_review', 'review_scores_rating',\n",
      "       'review_scores_accuracy', 'review_scores_cleanliness',\n",
      "       'review_scores_checkin', 'review_scores_communication',\n",
      "       'review_scores_location', 'review_scores_value', 'requires_license',\n",
      "       'license', 'jurisdiction_names', 'instant_bookable',\n",
      "       'cancellation_policy', 'require_guest_profile_picture',\n",
      "       'require_guest_phone_verification', 'calculated_host_listings_count',\n",
      "       'reviews_per_month'],\n",
      "      dtype='object')\n",
      "[+] data types II:  {dtype('<M8[ns]'), dtype('float64'), dtype('O'), dtype('int64')}\n"
     ]
    }
   ],
   "source": [
    "get_explanatory(listings)"
   ]
  },
  {
   "cell_type": "markdown",
   "id": "67b5fb24-5a1a-4de2-a17a-27a91364b41b",
   "metadata": {},
   "source": [
    "## Overview\n",
    "  Listings dataset is the core of the analysis. This is where the main fields are, like neighborhoods, review scores, prices and hosts for example. On the other hand, there are still many fields that will be unnecessary for the analysis, for that, we must treat the data."
   ]
  },
  {
   "cell_type": "code",
   "execution_count": 14,
   "id": "4cd43aa1-a9c5-493d-ab3e-82e6fb63b759",
   "metadata": {},
   "outputs": [],
   "source": [
    "listings['price'] = listings.price.replace('[\\$,]', '', regex=True).astype(float) # modifying the price data type\n",
    "listings['host_since_year'] = pd.DatetimeIndex(listings['host_since']).year "
   ]
  },
  {
   "cell_type": "code",
   "execution_count": 15,
   "id": "ac3fa78e-eb93-4da9-a130-740cd9e4911c",
   "metadata": {},
   "outputs": [
    {
     "data": {
      "text/html": [
       "<div>\n",
       "<style scoped>\n",
       "    .dataframe tbody tr th:only-of-type {\n",
       "        vertical-align: middle;\n",
       "    }\n",
       "\n",
       "    .dataframe tbody tr th {\n",
       "        vertical-align: top;\n",
       "    }\n",
       "\n",
       "    .dataframe thead th {\n",
       "        text-align: right;\n",
       "    }\n",
       "</style>\n",
       "<table border=\"1\" class=\"dataframe\">\n",
       "  <thead>\n",
       "    <tr style=\"text-align: right;\">\n",
       "      <th></th>\n",
       "      <th>id</th>\n",
       "      <th>host_since</th>\n",
       "      <th>host_location</th>\n",
       "      <th>host_response_time</th>\n",
       "      <th>host_is_superhost</th>\n",
       "      <th>host_neighbourhood</th>\n",
       "      <th>host_has_profile_pic</th>\n",
       "      <th>street</th>\n",
       "      <th>neighbourhood</th>\n",
       "      <th>neighbourhood_cleansed</th>\n",
       "      <th>...</th>\n",
       "      <th>price</th>\n",
       "      <th>guests_included</th>\n",
       "      <th>number_of_reviews</th>\n",
       "      <th>review_scores_rating</th>\n",
       "      <th>review_scores_accuracy</th>\n",
       "      <th>review_scores_cleanliness</th>\n",
       "      <th>review_scores_checkin</th>\n",
       "      <th>review_scores_communication</th>\n",
       "      <th>review_scores_location</th>\n",
       "      <th>review_scores_value</th>\n",
       "    </tr>\n",
       "  </thead>\n",
       "  <tbody>\n",
       "    <tr>\n",
       "      <th>0</th>\n",
       "      <td>12147973</td>\n",
       "      <td>2015</td>\n",
       "      <td>Boston, Massachusetts, United States</td>\n",
       "      <td>NaN</td>\n",
       "      <td>f</td>\n",
       "      <td>Roslindale</td>\n",
       "      <td>t</td>\n",
       "      <td>Birch Street, Boston, MA 02131, United States</td>\n",
       "      <td>Roslindale</td>\n",
       "      <td>Roslindale</td>\n",
       "      <td>...</td>\n",
       "      <td>250.0</td>\n",
       "      <td>1</td>\n",
       "      <td>0</td>\n",
       "      <td>NaN</td>\n",
       "      <td>NaN</td>\n",
       "      <td>NaN</td>\n",
       "      <td>NaN</td>\n",
       "      <td>NaN</td>\n",
       "      <td>NaN</td>\n",
       "      <td>NaN</td>\n",
       "    </tr>\n",
       "    <tr>\n",
       "      <th>1</th>\n",
       "      <td>3075044</td>\n",
       "      <td>2012</td>\n",
       "      <td>Boston, Massachusetts, United States</td>\n",
       "      <td>within an hour</td>\n",
       "      <td>f</td>\n",
       "      <td>Roslindale</td>\n",
       "      <td>t</td>\n",
       "      <td>Pinehurst Street, Boston, MA 02131, United States</td>\n",
       "      <td>Roslindale</td>\n",
       "      <td>Roslindale</td>\n",
       "      <td>...</td>\n",
       "      <td>65.0</td>\n",
       "      <td>0</td>\n",
       "      <td>36</td>\n",
       "      <td>94.0</td>\n",
       "      <td>10.0</td>\n",
       "      <td>9.0</td>\n",
       "      <td>10.0</td>\n",
       "      <td>10.0</td>\n",
       "      <td>9.0</td>\n",
       "      <td>9.0</td>\n",
       "    </tr>\n",
       "    <tr>\n",
       "      <th>2</th>\n",
       "      <td>6976</td>\n",
       "      <td>2009</td>\n",
       "      <td>Boston, Massachusetts, United States</td>\n",
       "      <td>within a few hours</td>\n",
       "      <td>t</td>\n",
       "      <td>Roslindale</td>\n",
       "      <td>t</td>\n",
       "      <td>Ardale St., Boston, MA 02131, United States</td>\n",
       "      <td>Roslindale</td>\n",
       "      <td>Roslindale</td>\n",
       "      <td>...</td>\n",
       "      <td>65.0</td>\n",
       "      <td>1</td>\n",
       "      <td>41</td>\n",
       "      <td>98.0</td>\n",
       "      <td>10.0</td>\n",
       "      <td>9.0</td>\n",
       "      <td>10.0</td>\n",
       "      <td>10.0</td>\n",
       "      <td>9.0</td>\n",
       "      <td>10.0</td>\n",
       "    </tr>\n",
       "  </tbody>\n",
       "</table>\n",
       "<p>3 rows × 29 columns</p>\n",
       "</div>"
      ],
      "text/plain": [
       "         id  host_since                         host_location  \\\n",
       "0  12147973        2015  Boston, Massachusetts, United States   \n",
       "1   3075044        2012  Boston, Massachusetts, United States   \n",
       "2      6976        2009  Boston, Massachusetts, United States   \n",
       "\n",
       "   host_response_time host_is_superhost host_neighbourhood  \\\n",
       "0                 NaN                 f         Roslindale   \n",
       "1      within an hour                 f         Roslindale   \n",
       "2  within a few hours                 t         Roslindale   \n",
       "\n",
       "  host_has_profile_pic                                             street  \\\n",
       "0                    t      Birch Street, Boston, MA 02131, United States   \n",
       "1                    t  Pinehurst Street, Boston, MA 02131, United States   \n",
       "2                    t        Ardale St., Boston, MA 02131, United States   \n",
       "\n",
       "  neighbourhood neighbourhood_cleansed  ...  price guests_included  \\\n",
       "0    Roslindale             Roslindale  ...  250.0               1   \n",
       "1    Roslindale             Roslindale  ...   65.0               0   \n",
       "2    Roslindale             Roslindale  ...   65.0               1   \n",
       "\n",
       "  number_of_reviews review_scores_rating review_scores_accuracy  \\\n",
       "0                 0                  NaN                    NaN   \n",
       "1                36                 94.0                   10.0   \n",
       "2                41                 98.0                   10.0   \n",
       "\n",
       "   review_scores_cleanliness  review_scores_checkin  \\\n",
       "0                        NaN                    NaN   \n",
       "1                        9.0                   10.0   \n",
       "2                        9.0                   10.0   \n",
       "\n",
       "   review_scores_communication  review_scores_location  review_scores_value  \n",
       "0                          NaN                     NaN                  NaN  \n",
       "1                         10.0                     9.0                  9.0  \n",
       "2                         10.0                     9.0                 10.0  \n",
       "\n",
       "[3 rows x 29 columns]"
      ]
     },
     "execution_count": 15,
     "metadata": {},
     "output_type": "execute_result"
    }
   ],
   "source": [
    "# choose the most important columns for this study\n",
    "\n",
    "important_columns = ['id', 'host_since', 'host_location',\n",
    "    'host_response_time', 'host_is_superhost', 'host_neighbourhood', \n",
    "    'host_has_profile_pic', 'street', 'neighbourhood', \n",
    "    'neighbourhood_cleansed', 'city', 'state','country',\n",
    "    'property_type', 'room_type', 'accommodates', \n",
    "    'bathrooms', 'bedrooms', 'beds', 'price',\n",
    "    'guests_included', 'number_of_reviews',\n",
    "    'review_scores_rating', 'review_scores_accuracy', 'review_scores_cleanliness',\n",
    "    'review_scores_checkin', 'review_scores_communication',\n",
    "    'review_scores_location', 'review_scores_value']\n",
    "\n",
    "cleaned_listings = listings[important_columns].copy()\n",
    "cleaned_listings['host_since'] = listings['host_since_year'].copy() # create a new column with only year of host_sinc. This will facilitate a broader approach.\n",
    "cleaned_listings.head(3)"
   ]
  },
  {
   "cell_type": "code",
   "execution_count": 16,
   "id": "a44e6979-06f9-43e8-bd47-4e1b7cee9d48",
   "metadata": {},
   "outputs": [
    {
     "name": "stdout",
     "output_type": "stream",
     "text": [
      "[+] numer of rows:  3585\n",
      "[+] numer of columns:  29\n",
      "[+] null percentage:\n",
      "id                             0.000000\n",
      "host_since                     0.000000\n",
      "host_location                  0.003068\n",
      "host_response_time             0.131381\n",
      "host_is_superhost              0.000000\n",
      "host_neighbourhood             0.094561\n",
      "host_has_profile_pic           0.000000\n",
      "street                         0.000000\n",
      "neighbourhood                  0.151464\n",
      "neighbourhood_cleansed         0.000000\n",
      "city                           0.000558\n",
      "state                          0.000000\n",
      "country                        0.000000\n",
      "property_type                  0.000837\n",
      "room_type                      0.000000\n",
      "accommodates                   0.000000\n",
      "bathrooms                      0.003905\n",
      "bedrooms                       0.002789\n",
      "beds                           0.002510\n",
      "price                          0.000000\n",
      "guests_included                0.000000\n",
      "number_of_reviews              0.000000\n",
      "review_scores_rating           0.226778\n",
      "review_scores_accuracy         0.229568\n",
      "review_scores_cleanliness      0.228173\n",
      "review_scores_checkin          0.228731\n",
      "review_scores_communication    0.228173\n",
      "review_scores_location         0.229289\n",
      "review_scores_value            0.229010\n",
      "dtype: float64\n",
      "[+] max. missing values (column):  review_scores_accuracy\n",
      "[+] columns:\n",
      "Index(['id', 'host_since', 'host_location', 'host_response_time',\n",
      "       'host_is_superhost', 'host_neighbourhood', 'host_has_profile_pic',\n",
      "       'street', 'neighbourhood', 'neighbourhood_cleansed', 'city', 'state',\n",
      "       'country', 'property_type', 'room_type', 'accommodates', 'bathrooms',\n",
      "       'bedrooms', 'beds', 'price', 'guests_included', 'number_of_reviews',\n",
      "       'review_scores_rating', 'review_scores_accuracy',\n",
      "       'review_scores_cleanliness', 'review_scores_checkin',\n",
      "       'review_scores_communication', 'review_scores_location',\n",
      "       'review_scores_value'],\n",
      "      dtype='object')\n",
      "[+] data types II:  {dtype('float64'), dtype('O'), dtype('int64')}\n"
     ]
    }
   ],
   "source": [
    "get_explanatory(cleaned_listings)"
   ]
  },
  {
   "cell_type": "markdown",
   "id": "1dc673bc-ddcb-4149-8f5d-0f88cc9b29ea",
   "metadata": {},
   "source": [
    "## Overview\n",
    "  Listings dataset is the core of the analysis. This is where the main fields are, like neighborhoods, review scores, prices and hosts for example. On the other hand, there are still many fields that will be unnecessary for the analysis, for that, we must treat the data. With the cleaner dataset, we can make better observations. Ratings are the columns that have the most missing data"
   ]
  },
  {
   "cell_type": "code",
   "execution_count": 17,
   "id": "49391e97-9bfb-4814-9693-2757321fecda",
   "metadata": {},
   "outputs": [
    {
     "data": {
      "text/html": [
       "<div>\n",
       "<style scoped>\n",
       "    .dataframe tbody tr th:only-of-type {\n",
       "        vertical-align: middle;\n",
       "    }\n",
       "\n",
       "    .dataframe tbody tr th {\n",
       "        vertical-align: top;\n",
       "    }\n",
       "\n",
       "    .dataframe thead th {\n",
       "        text-align: right;\n",
       "    }\n",
       "</style>\n",
       "<table border=\"1\" class=\"dataframe\">\n",
       "  <thead>\n",
       "    <tr style=\"text-align: right;\">\n",
       "      <th></th>\n",
       "      <th>review_scores_value</th>\n",
       "      <th>review_scores_location</th>\n",
       "      <th>review_scores_cleanliness</th>\n",
       "      <th>review_scores_communication</th>\n",
       "    </tr>\n",
       "    <tr>\n",
       "      <th>host_since_year</th>\n",
       "      <th></th>\n",
       "      <th></th>\n",
       "      <th></th>\n",
       "      <th></th>\n",
       "    </tr>\n",
       "  </thead>\n",
       "  <tbody>\n",
       "    <tr>\n",
       "      <th>2008</th>\n",
       "      <td>9.000000</td>\n",
       "      <td>9.000000</td>\n",
       "      <td>9.000000</td>\n",
       "      <td>9.666667</td>\n",
       "    </tr>\n",
       "    <tr>\n",
       "      <th>2009</th>\n",
       "      <td>8.645161</td>\n",
       "      <td>9.516129</td>\n",
       "      <td>9.086022</td>\n",
       "      <td>9.172043</td>\n",
       "    </tr>\n",
       "    <tr>\n",
       "      <th>2010</th>\n",
       "      <td>9.117647</td>\n",
       "      <td>9.129412</td>\n",
       "      <td>9.188235</td>\n",
       "      <td>9.564706</td>\n",
       "    </tr>\n",
       "    <tr>\n",
       "      <th>2011</th>\n",
       "      <td>9.140704</td>\n",
       "      <td>9.391960</td>\n",
       "      <td>9.315000</td>\n",
       "      <td>9.595000</td>\n",
       "    </tr>\n",
       "    <tr>\n",
       "      <th>2012</th>\n",
       "      <td>9.281746</td>\n",
       "      <td>9.571429</td>\n",
       "      <td>9.357143</td>\n",
       "      <td>9.765873</td>\n",
       "    </tr>\n",
       "    <tr>\n",
       "      <th>2013</th>\n",
       "      <td>9.121593</td>\n",
       "      <td>9.438155</td>\n",
       "      <td>9.301887</td>\n",
       "      <td>9.683438</td>\n",
       "    </tr>\n",
       "    <tr>\n",
       "      <th>2014</th>\n",
       "      <td>9.227886</td>\n",
       "      <td>9.345345</td>\n",
       "      <td>9.261976</td>\n",
       "      <td>9.672156</td>\n",
       "    </tr>\n",
       "    <tr>\n",
       "      <th>2015</th>\n",
       "      <td>9.160458</td>\n",
       "      <td>9.414040</td>\n",
       "      <td>9.226361</td>\n",
       "      <td>9.628940</td>\n",
       "    </tr>\n",
       "    <tr>\n",
       "      <th>2016</th>\n",
       "      <td>9.231034</td>\n",
       "      <td>9.465517</td>\n",
       "      <td>9.206186</td>\n",
       "      <td>9.676976</td>\n",
       "    </tr>\n",
       "  </tbody>\n",
       "</table>\n",
       "</div>"
      ],
      "text/plain": [
       "                 review_scores_value  review_scores_location  \\\n",
       "host_since_year                                                \n",
       "2008                        9.000000                9.000000   \n",
       "2009                        8.645161                9.516129   \n",
       "2010                        9.117647                9.129412   \n",
       "2011                        9.140704                9.391960   \n",
       "2012                        9.281746                9.571429   \n",
       "2013                        9.121593                9.438155   \n",
       "2014                        9.227886                9.345345   \n",
       "2015                        9.160458                9.414040   \n",
       "2016                        9.231034                9.465517   \n",
       "\n",
       "                 review_scores_cleanliness  review_scores_communication  \n",
       "host_since_year                                                          \n",
       "2008                              9.000000                     9.666667  \n",
       "2009                              9.086022                     9.172043  \n",
       "2010                              9.188235                     9.564706  \n",
       "2011                              9.315000                     9.595000  \n",
       "2012                              9.357143                     9.765873  \n",
       "2013                              9.301887                     9.683438  \n",
       "2014                              9.261976                     9.672156  \n",
       "2015                              9.226361                     9.628940  \n",
       "2016                              9.206186                     9.676976  "
      ]
     },
     "execution_count": 17,
     "metadata": {},
     "output_type": "execute_result"
    }
   ],
   "source": [
    "# better view of review scores\n",
    "listings.groupby(['host_since_year'])[['review_scores_value', 'review_scores_location', 'review_scores_cleanliness', 'review_scores_communication']].mean().sort_values(ascending=True, by='host_since_year')"
   ]
  },
  {
   "cell_type": "code",
   "execution_count": 18,
   "id": "8f2afdfd-56c6-48ae-81dc-73ee4752341d",
   "metadata": {},
   "outputs": [],
   "source": [
    "reviews_df = listings[['review_scores_accuracy', 'review_scores_cleanliness', 'review_scores_checkin', 'review_scores_communication', 'review_scores_location', 'review_scores_value']]\n",
    "\n",
    "reviews_df = reviews_df.apply(lambda col: col.fillna(0.0))\n",
    "reviews_df['price'] = listings.price\n",
    "price_mean = reviews_df['price'].mean()"
   ]
  },
  {
   "cell_type": "code",
   "execution_count": 19,
   "id": "919ab18b-3a16-4d30-b7fa-774dd1cefafb",
   "metadata": {},
   "outputs": [],
   "source": [
    "def low_high_price(listings_price: float) -> str:\n",
    "    '''\n",
    "    Function that indicates whether the price is above or below average. Results are indicated by chars ('L' or 'H')\n",
    "    \n",
    "    Args:\n",
    "        - listings_price: float -> price to be evaluated \n",
    "    \n",
    "    Return:\n",
    "        - character indicating whether the price is above (H) or below (L) the mean\n",
    "    '''\n",
    "    return 'H' if listings_price < price_mean else 'L'"
   ]
  },
  {
   "cell_type": "code",
   "execution_count": 20,
   "id": "8abe0957-bde6-433f-b8e3-8c1dc3aef61e",
   "metadata": {},
   "outputs": [],
   "source": [
    "price_mean = reviews_df['price'].mean() # getting the average price\n",
    "reviews_df['price'] = reviews_df['price'].apply(low_high_price) # replace the price column with the indicative chars"
   ]
  },
  {
   "cell_type": "code",
   "execution_count": 21,
   "id": "3d8710dc-bfc8-4987-a932-06dba7ee1e22",
   "metadata": {},
   "outputs": [],
   "source": [
    "H = reviews_df[reviews_df['price'] == 'H'].drop('price', axis=1) # just above average prices\n",
    "L = reviews_df[reviews_df['price'] == 'L'].drop('price', axis=1) # just below average prices"
   ]
  },
  {
   "cell_type": "code",
   "execution_count": 22,
   "id": "082daaec-0ae2-4ac2-9e9b-7f86fd856756",
   "metadata": {},
   "outputs": [
    {
     "data": {
      "text/html": [
       "<div>\n",
       "<style scoped>\n",
       "    .dataframe tbody tr th:only-of-type {\n",
       "        vertical-align: middle;\n",
       "    }\n",
       "\n",
       "    .dataframe tbody tr th {\n",
       "        vertical-align: top;\n",
       "    }\n",
       "\n",
       "    .dataframe thead th {\n",
       "        text-align: right;\n",
       "    }\n",
       "</style>\n",
       "<table border=\"1\" class=\"dataframe\">\n",
       "  <thead>\n",
       "    <tr style=\"text-align: right;\">\n",
       "      <th></th>\n",
       "      <th>review_scores_accuracy</th>\n",
       "      <th>review_scores_cleanliness</th>\n",
       "      <th>review_scores_checkin</th>\n",
       "      <th>review_scores_communication</th>\n",
       "      <th>review_scores_location</th>\n",
       "      <th>review_scores_value</th>\n",
       "    </tr>\n",
       "  </thead>\n",
       "  <tbody>\n",
       "    <tr>\n",
       "      <th>1</th>\n",
       "      <td>10.0</td>\n",
       "      <td>9.0</td>\n",
       "      <td>10.0</td>\n",
       "      <td>10.0</td>\n",
       "      <td>9.0</td>\n",
       "      <td>9.0</td>\n",
       "    </tr>\n",
       "    <tr>\n",
       "      <th>2</th>\n",
       "      <td>10.0</td>\n",
       "      <td>9.0</td>\n",
       "      <td>10.0</td>\n",
       "      <td>10.0</td>\n",
       "      <td>9.0</td>\n",
       "      <td>10.0</td>\n",
       "    </tr>\n",
       "    <tr>\n",
       "      <th>3</th>\n",
       "      <td>10.0</td>\n",
       "      <td>10.0</td>\n",
       "      <td>10.0</td>\n",
       "      <td>10.0</td>\n",
       "      <td>10.0</td>\n",
       "      <td>10.0</td>\n",
       "    </tr>\n",
       "    <tr>\n",
       "      <th>4</th>\n",
       "      <td>10.0</td>\n",
       "      <td>10.0</td>\n",
       "      <td>10.0</td>\n",
       "      <td>10.0</td>\n",
       "      <td>9.0</td>\n",
       "      <td>10.0</td>\n",
       "    </tr>\n",
       "    <tr>\n",
       "      <th>5</th>\n",
       "      <td>10.0</td>\n",
       "      <td>10.0</td>\n",
       "      <td>10.0</td>\n",
       "      <td>10.0</td>\n",
       "      <td>9.0</td>\n",
       "      <td>10.0</td>\n",
       "    </tr>\n",
       "  </tbody>\n",
       "</table>\n",
       "</div>"
      ],
      "text/plain": [
       "   review_scores_accuracy  review_scores_cleanliness  review_scores_checkin  \\\n",
       "1                    10.0                        9.0                   10.0   \n",
       "2                    10.0                        9.0                   10.0   \n",
       "3                    10.0                       10.0                   10.0   \n",
       "4                    10.0                       10.0                   10.0   \n",
       "5                    10.0                       10.0                   10.0   \n",
       "\n",
       "   review_scores_communication  review_scores_location  review_scores_value  \n",
       "1                         10.0                     9.0                  9.0  \n",
       "2                         10.0                     9.0                 10.0  \n",
       "3                         10.0                    10.0                 10.0  \n",
       "4                         10.0                     9.0                 10.0  \n",
       "5                         10.0                     9.0                 10.0  "
      ]
     },
     "execution_count": 22,
     "metadata": {},
     "output_type": "execute_result"
    }
   ],
   "source": [
    "H.head()"
   ]
  },
  {
   "cell_type": "code",
   "execution_count": 23,
   "id": "bda39577-0abd-4a5e-8d28-773c369beef7",
   "metadata": {},
   "outputs": [
    {
     "data": {
      "text/html": [
       "<div>\n",
       "<style scoped>\n",
       "    .dataframe tbody tr th:only-of-type {\n",
       "        vertical-align: middle;\n",
       "    }\n",
       "\n",
       "    .dataframe tbody tr th {\n",
       "        vertical-align: top;\n",
       "    }\n",
       "\n",
       "    .dataframe thead th {\n",
       "        text-align: right;\n",
       "    }\n",
       "</style>\n",
       "<table border=\"1\" class=\"dataframe\">\n",
       "  <thead>\n",
       "    <tr style=\"text-align: right;\">\n",
       "      <th></th>\n",
       "      <th>review_scores_accuracy</th>\n",
       "      <th>review_scores_cleanliness</th>\n",
       "      <th>review_scores_checkin</th>\n",
       "      <th>review_scores_communication</th>\n",
       "      <th>review_scores_location</th>\n",
       "      <th>review_scores_value</th>\n",
       "    </tr>\n",
       "  </thead>\n",
       "  <tbody>\n",
       "    <tr>\n",
       "      <th>0</th>\n",
       "      <td>0.0</td>\n",
       "      <td>0.0</td>\n",
       "      <td>0.0</td>\n",
       "      <td>0.0</td>\n",
       "      <td>0.0</td>\n",
       "      <td>0.0</td>\n",
       "    </tr>\n",
       "    <tr>\n",
       "      <th>9</th>\n",
       "      <td>10.0</td>\n",
       "      <td>9.0</td>\n",
       "      <td>10.0</td>\n",
       "      <td>10.0</td>\n",
       "      <td>9.0</td>\n",
       "      <td>9.0</td>\n",
       "    </tr>\n",
       "    <tr>\n",
       "      <th>24</th>\n",
       "      <td>10.0</td>\n",
       "      <td>10.0</td>\n",
       "      <td>10.0</td>\n",
       "      <td>10.0</td>\n",
       "      <td>10.0</td>\n",
       "      <td>10.0</td>\n",
       "    </tr>\n",
       "    <tr>\n",
       "      <th>31</th>\n",
       "      <td>10.0</td>\n",
       "      <td>10.0</td>\n",
       "      <td>10.0</td>\n",
       "      <td>10.0</td>\n",
       "      <td>9.0</td>\n",
       "      <td>10.0</td>\n",
       "    </tr>\n",
       "    <tr>\n",
       "      <th>38</th>\n",
       "      <td>10.0</td>\n",
       "      <td>10.0</td>\n",
       "      <td>10.0</td>\n",
       "      <td>10.0</td>\n",
       "      <td>10.0</td>\n",
       "      <td>9.0</td>\n",
       "    </tr>\n",
       "  </tbody>\n",
       "</table>\n",
       "</div>"
      ],
      "text/plain": [
       "    review_scores_accuracy  review_scores_cleanliness  review_scores_checkin  \\\n",
       "0                      0.0                        0.0                    0.0   \n",
       "9                     10.0                        9.0                   10.0   \n",
       "24                    10.0                       10.0                   10.0   \n",
       "31                    10.0                       10.0                   10.0   \n",
       "38                    10.0                       10.0                   10.0   \n",
       "\n",
       "    review_scores_communication  review_scores_location  review_scores_value  \n",
       "0                           0.0                     0.0                  0.0  \n",
       "9                          10.0                     9.0                  9.0  \n",
       "24                         10.0                    10.0                 10.0  \n",
       "31                         10.0                     9.0                 10.0  \n",
       "38                         10.0                    10.0                  9.0  "
      ]
     },
     "execution_count": 23,
     "metadata": {},
     "output_type": "execute_result"
    }
   ],
   "source": [
    "L.head()"
   ]
  },
  {
   "cell_type": "code",
   "execution_count": 24,
   "id": "1b9b9e73-c5b0-4802-9fb9-0cdd89f2d3a9",
   "metadata": {},
   "outputs": [],
   "source": [
    "# reducing (by mean) to a single column\n",
    "H = H.apply(lambda col: col.mean(), axis=0)\n",
    "L = L.apply(lambda col: col.mean(), axis=0)\n",
    "\n",
    "# calculating the percentage of each one\n",
    "H_perc = H/H.sum()\n",
    "L_perc = L/L.sum()"
   ]
  },
  {
   "cell_type": "code",
   "execution_count": 25,
   "id": "7406b201-6c8e-4d8d-892f-6773152fb5e6",
   "metadata": {},
   "outputs": [],
   "source": [
    "difference_perc_df = pd.concat([H_perc, L_perc], axis=1) # concatenating the averages of the reviews\n",
    "difference_perc_df.rename(columns={0:'H', 1:'L'}, inplace=True)\n",
    "difference_perc_df.index = [index.replace('review_scores_', '').capitalize() for index in difference_perc_df.index] # rename indexes"
   ]
  },
  {
   "cell_type": "code",
   "execution_count": 26,
   "id": "7ecbfaa1-6eb3-4031-9a0e-986ef3bd7197",
   "metadata": {},
   "outputs": [
    {
     "data": {
      "text/html": [
       "<style  type=\"text/css\" >\n",
       "#T_623dc_row0_col2{\n",
       "            width:  10em;\n",
       "             height:  80%;\n",
       "            background:  linear-gradient(90deg, transparent 59.6%, #5fba7d 59.6%, #5fba7d 69.8%, transparent 69.8%);\n",
       "        }#T_623dc_row1_col2{\n",
       "            width:  10em;\n",
       "             height:  80%;\n",
       "            background:  linear-gradient(90deg, transparent 4.6%, #d65f5f 4.6%, #d65f5f 59.6%, transparent 59.6%);\n",
       "        }#T_623dc_row2_col2{\n",
       "            width:  10em;\n",
       "             height:  80%;\n",
       "            background:  linear-gradient(90deg, transparent 59.6%, #5fba7d 59.6%, #5fba7d 100.0%, transparent 100.0%);\n",
       "        }#T_623dc_row3_col2{\n",
       "            width:  10em;\n",
       "             height:  80%;\n",
       "            background:  linear-gradient(90deg, transparent 59.6%, #5fba7d 59.6%, #5fba7d 95.9%, transparent 95.9%);\n",
       "        }#T_623dc_row4_col2{\n",
       "            width:  10em;\n",
       "             height:  80%;\n",
       "            background:  linear-gradient(90deg,#d65f5f 59.6%, transparent 59.6%);\n",
       "        }#T_623dc_row5_col2{\n",
       "            width:  10em;\n",
       "             height:  80%;\n",
       "            background:  linear-gradient(90deg, transparent 59.6%, #5fba7d 59.6%, #5fba7d 87.1%, transparent 87.1%);\n",
       "        }</style><table id=\"T_623dc_\" ><thead>    <tr>        <th class=\"blank level0\" ></th>        <th class=\"col_heading level0 col0\" >H</th>        <th class=\"col_heading level0 col1\" >L</th>        <th class=\"col_heading level0 col2\" >Diff_H_L</th>    </tr></thead><tbody>\n",
       "                <tr>\n",
       "                        <th id=\"T_623dc_level0_row0\" class=\"row_heading level0 row0\" >Accuracy</th>\n",
       "                        <td id=\"T_623dc_row0_col0\" class=\"data row0 col0\" >0.166846</td>\n",
       "                        <td id=\"T_623dc_row0_col1\" class=\"data row0 col1\" >0.166164</td>\n",
       "                        <td id=\"T_623dc_row0_col2\" class=\"data row0 col2\" >0.000682</td>\n",
       "            </tr>\n",
       "            <tr>\n",
       "                        <th id=\"T_623dc_level0_row1\" class=\"row_heading level0 row1\" >Cleanliness</th>\n",
       "                        <td id=\"T_623dc_row1_col0\" class=\"data row1 col0\" >0.162375</td>\n",
       "                        <td id=\"T_623dc_row1_col1\" class=\"data row1 col1\" >0.166033</td>\n",
       "                        <td id=\"T_623dc_row1_col2\" class=\"data row1 col2\" >-0.003659</td>\n",
       "            </tr>\n",
       "            <tr>\n",
       "                        <th id=\"T_623dc_level0_row2\" class=\"row_heading level0 row2\" >Checkin</th>\n",
       "                        <td id=\"T_623dc_row2_col0\" class=\"data row2 col0\" >0.171611</td>\n",
       "                        <td id=\"T_623dc_row2_col1\" class=\"data row2 col1\" >0.168920</td>\n",
       "                        <td id=\"T_623dc_row2_col2\" class=\"data row2 col2\" >0.002691</td>\n",
       "            </tr>\n",
       "            <tr>\n",
       "                        <th id=\"T_623dc_level0_row3\" class=\"row_heading level0 row3\" >Communication</th>\n",
       "                        <td id=\"T_623dc_row3_col0\" class=\"data row3 col0\" >0.171632</td>\n",
       "                        <td id=\"T_623dc_row3_col1\" class=\"data row3 col1\" >0.169213</td>\n",
       "                        <td id=\"T_623dc_row3_col2\" class=\"data row3 col2\" >0.002419</td>\n",
       "            </tr>\n",
       "            <tr>\n",
       "                        <th id=\"T_623dc_level0_row4\" class=\"row_heading level0 row4\" >Location</th>\n",
       "                        <td id=\"T_623dc_row4_col0\" class=\"data row4 col0\" >0.164773</td>\n",
       "                        <td id=\"T_623dc_row4_col1\" class=\"data row4 col1\" >0.168740</td>\n",
       "                        <td id=\"T_623dc_row4_col2\" class=\"data row4 col2\" >-0.003967</td>\n",
       "            </tr>\n",
       "            <tr>\n",
       "                        <th id=\"T_623dc_level0_row5\" class=\"row_heading level0 row5\" >Value</th>\n",
       "                        <td id=\"T_623dc_row5_col0\" class=\"data row5 col0\" >0.162764</td>\n",
       "                        <td id=\"T_623dc_row5_col1\" class=\"data row5 col1\" >0.160929</td>\n",
       "                        <td id=\"T_623dc_row5_col2\" class=\"data row5 col2\" >0.001834</td>\n",
       "            </tr>\n",
       "    </tbody></table>"
      ],
      "text/plain": [
       "<pandas.io.formats.style.Styler at 0x2910b0458e0>"
      ]
     },
     "execution_count": 26,
     "metadata": {},
     "output_type": "execute_result"
    }
   ],
   "source": [
    "difference_perc_df['Diff_H_L'] = difference_perc_df['H'] - difference_perc_df['L'] # calculating the percentage difference\n",
    "difference_perc_df.style.bar(subset=['Diff_H_L'], align='mid', color=['#d65f5f', '#5fba7d'])"
   ]
  },
  {
   "cell_type": "markdown",
   "id": "db9539fe-7a8f-47a9-be91-0f4cf90c363e",
   "metadata": {},
   "source": [
    "---"
   ]
  },
  {
   "cell_type": "code",
   "execution_count": 27,
   "id": "7426998c-8de4-4cb5-9a15-f8c620404e40",
   "metadata": {},
   "outputs": [
    {
     "data": {
      "image/png": "[encoded data removed]",
      "text/plain": [
       "<Figure size 432x288 with 1 Axes>"
      ]
     },
     "metadata": {
      "needs_background": "light"
     },
     "output_type": "display_data"
    }
   ],
   "source": [
    "percent_host_neighb = listings.host_neighbourhood.value_counts() / (listings.shape[0] - listings.host_neighbourhood.isnull().sum()) # percentage of each neighborhood\n",
    "top_5_host_neighb = percent_host_neighb.head().sort_values(ascending=True)\n",
    "top_5_host_neighb.plot(kind=\"barh\", title=\"Top 5 host neighbourhood\", color=\"royalblue\");"
   ]
  },
  {
   "cell_type": "code",
   "execution_count": 28,
   "id": "ed7ea79c-21dd-4a75-8827-bb188adff6bd",
   "metadata": {},
   "outputs": [
    {
     "data": {
      "text/plain": [
       "Allston-Brighton    0.115527\n",
       "Jamaica Plain       0.098275\n",
       "Back Bay            0.096118\n",
       "Fenway/Kenmore      0.089341\n",
       "South End           0.071781\n",
       "Name: host_neighbourhood, dtype: float64"
      ]
     },
     "execution_count": 28,
     "metadata": {},
     "output_type": "execute_result"
    }
   ],
   "source": [
    "percent_host_neighb.sort_values(ascending=False).head()"
   ]
  },
  {
   "cell_type": "code",
   "execution_count": 29,
   "id": "71343d28-4aa2-463e-b1dd-9c18e699ce83",
   "metadata": {},
   "outputs": [
    {
     "data": {
      "text/plain": [
       "host_neighbourhood\n",
       "Coral Way             10.000000\n",
       "Bernal Heights        10.000000\n",
       "Mission District      10.000000\n",
       "Malden                10.000000\n",
       "Financial District     9.833333\n",
       "Name: review_scores_value, dtype: float64"
      ]
     },
     "execution_count": 29,
     "metadata": {},
     "output_type": "execute_result"
    }
   ],
   "source": [
    "listings.groupby(['host_neighbourhood'])['review_scores_value'].mean().sort_values(ascending=False).head()"
   ]
  },
  {
   "cell_type": "code",
   "execution_count": 30,
   "id": "fce2ddd0-f1a2-40c0-95b5-d61d1f82eac5",
   "metadata": {},
   "outputs": [
    {
     "data": {
      "text/plain": [
       "host_neighbourhood\n",
       "Bernal Heights        375.000000\n",
       "Sunnyvale             365.000000\n",
       "Chelsea               340.000000\n",
       "West End              298.841463\n",
       "Financial District    298.769231\n",
       "Name: price, dtype: float64"
      ]
     },
     "execution_count": 30,
     "metadata": {},
     "output_type": "execute_result"
    }
   ],
   "source": [
    "listings.groupby(['host_neighbourhood'])['price'].mean().sort_values(ascending=False).head()"
   ]
  },
  {
   "cell_type": "code",
   "execution_count": 31,
   "id": "b8701d28-2e07-4315-96fa-69b38353699f",
   "metadata": {},
   "outputs": [
    {
     "data": {
      "image/png": "[encoded data removed]",
      "text/plain": [
       "<Figure size 432x288 with 1 Axes>"
      ]
     },
     "metadata": {
      "needs_background": "light"
     },
     "output_type": "display_data"
    }
   ],
   "source": [
    "listings.groupby(['host_neighbourhood'])['price'].mean().sort_values(ascending=True).plot(kind='barh', color=\"royalblue\"); # more expensive neighborhoods\n",
    "# kinda messy, no?"
   ]
  },
  {
   "cell_type": "code",
   "execution_count": 32,
   "id": "57de68d9-f165-4be0-a832-478fda65a90e",
   "metadata": {},
   "outputs": [
    {
     "data": {
      "image/png": "[encoded data removed]",
      "text/plain": [
       "<Figure size 432x288 with 1 Axes>"
      ]
     },
     "metadata": {
      "needs_background": "light"
     },
     "output_type": "display_data"
    }
   ],
   "source": [
    "# take only the 5 best and 5 worst and compare with the chosen neighborhoods\n",
    "prices_per_neighbourhood = listings.groupby(['host_neighbourhood'])['price'].mean().sort_values(ascending=False)\n",
    "all_together = pd.concat([prices_per_neighbourhood.head(), prices_per_neighbourhood.tail(), prices_per_neighbourhood[top_5_host_neighb.keys()]], axis=0).sort_values(ascending=True)\n",
    "\n",
    "colors_list = ['dimgray' if name in top_5_host_neighb.keys() else 'royalblue' for name in all_together.keys()]\n",
    "all_together.sort_values(ascending=True).plot(kind='barh', color=colors_list, title='Host Neighbourhood by Price');"
   ]
  },
  {
   "cell_type": "code",
   "execution_count": 33,
   "id": "d7bb53e7-0780-4f2b-8d5c-38758ed7e888",
   "metadata": {},
   "outputs": [
    {
     "data": {
      "image/png": "[encoded data removed]",
      "text/plain": [
       "<Figure size 432x288 with 1 Axes>"
      ]
     },
     "metadata": {
      "needs_background": "light"
     },
     "output_type": "display_data"
    }
   ],
   "source": [
    "# the types of properties that customers prefer\n",
    "percent_prop_type = listings.property_type.value_counts() / listings.shape[0]\n",
    "percent_prop_type.head(5).plot(kind=\"bar\", title=\"Top 5 property types\", color=\"royalblue\");"
   ]
  },
  {
   "cell_type": "markdown",
   "id": "1b9525c4-c4ea-4890-ae3e-6ac7161c0606",
   "metadata": {},
   "source": [
    "#### **Explanation**\n",
    "---\n",
    "\n",
    "##### **Who are the people who rent on AirBnB?**\n",
    "\n",
    "The search for apartments is also a strong point, with more than 70% of searches, according to <b>Top 5 property types</b>. We can check too the 5 most searched neighborhoods by visitors, which, when compared to <b>Host Neighbourhood by Price</b>, shows that most visitors search average prices.\n",
    "\n",
    "The table presented gives an overview of the difference in review scores between above and below average neighborhood prices. The biggest differentials of neighborhoods with prices above the average are the <i>cleanliness</i> and <i>location</i>."
   ]
  },
  {
   "cell_type": "code",
   "execution_count": 34,
   "id": "bdb3b684-e655-477e-b14a-399f63d7a63f",
   "metadata": {},
   "outputs": [],
   "source": [
    "listings_score_price = listings.dropna(subset=['review_scores_value'], axis=0)"
   ]
  },
  {
   "cell_type": "code",
   "execution_count": 35,
   "id": "38efa9a3-322f-4cf5-b8ce-2fb54e6b2013",
   "metadata": {},
   "outputs": [
    {
     "data": {
      "text/html": [
       "<div>\n",
       "<style scoped>\n",
       "    .dataframe tbody tr th:only-of-type {\n",
       "        vertical-align: middle;\n",
       "    }\n",
       "\n",
       "    .dataframe tbody tr th {\n",
       "        vertical-align: top;\n",
       "    }\n",
       "\n",
       "    .dataframe thead th {\n",
       "        text-align: right;\n",
       "    }\n",
       "</style>\n",
       "<table border=\"1\" class=\"dataframe\">\n",
       "  <thead>\n",
       "    <tr style=\"text-align: right;\">\n",
       "      <th></th>\n",
       "      <th>review_scores_value</th>\n",
       "      <th>price</th>\n",
       "    </tr>\n",
       "    <tr>\n",
       "      <th>neighbourhood</th>\n",
       "      <th></th>\n",
       "      <th></th>\n",
       "    </tr>\n",
       "  </thead>\n",
       "  <tbody>\n",
       "    <tr>\n",
       "      <th>Financial District</th>\n",
       "      <td>10.000000</td>\n",
       "      <td>281.250000</td>\n",
       "    </tr>\n",
       "    <tr>\n",
       "      <th>Downtown Crossing</th>\n",
       "      <td>9.047619</td>\n",
       "      <td>273.190476</td>\n",
       "    </tr>\n",
       "    <tr>\n",
       "      <th>Cambridge</th>\n",
       "      <td>7.500000</td>\n",
       "      <td>254.500000</td>\n",
       "    </tr>\n",
       "    <tr>\n",
       "      <th>Leather District</th>\n",
       "      <td>9.800000</td>\n",
       "      <td>253.400000</td>\n",
       "    </tr>\n",
       "    <tr>\n",
       "      <th>Chinatown</th>\n",
       "      <td>9.088889</td>\n",
       "      <td>247.266667</td>\n",
       "    </tr>\n",
       "    <tr>\n",
       "      <th>Back Bay</th>\n",
       "      <td>9.127854</td>\n",
       "      <td>238.365297</td>\n",
       "    </tr>\n",
       "    <tr>\n",
       "      <th>West End</th>\n",
       "      <td>8.891892</td>\n",
       "      <td>230.567568</td>\n",
       "    </tr>\n",
       "    <tr>\n",
       "      <th>Theater District</th>\n",
       "      <td>8.863636</td>\n",
       "      <td>221.863636</td>\n",
       "    </tr>\n",
       "    <tr>\n",
       "      <th>Beacon Hill</th>\n",
       "      <td>9.248366</td>\n",
       "      <td>214.856209</td>\n",
       "    </tr>\n",
       "    <tr>\n",
       "      <th>South Boston</th>\n",
       "      <td>9.353933</td>\n",
       "      <td>214.719101</td>\n",
       "    </tr>\n",
       "  </tbody>\n",
       "</table>\n",
       "</div>"
      ],
      "text/plain": [
       "                    review_scores_value       price\n",
       "neighbourhood                                      \n",
       "Financial District            10.000000  281.250000\n",
       "Downtown Crossing              9.047619  273.190476\n",
       "Cambridge                      7.500000  254.500000\n",
       "Leather District               9.800000  253.400000\n",
       "Chinatown                      9.088889  247.266667\n",
       "Back Bay                       9.127854  238.365297\n",
       "West End                       8.891892  230.567568\n",
       "Theater District               8.863636  221.863636\n",
       "Beacon Hill                    9.248366  214.856209\n",
       "South Boston                   9.353933  214.719101"
      ]
     },
     "execution_count": 35,
     "metadata": {},
     "output_type": "execute_result"
    }
   ],
   "source": [
    "listings_score_price.groupby(['neighbourhood'])[['review_scores_value','price']].mean().sort_values(by=\"price\", ascending=False).head(10)"
   ]
  },
  {
   "cell_type": "markdown",
   "id": "ad742f8c-ef56-486f-85d2-73d9bca7c6ec",
   "metadata": {},
   "source": [
    "## Overview\n",
    "Through this table, we can answer the question: *\"is higher price synonymous with quality?\"*. As much as the highest rating mean belongs to the most expensive neighborhood, it is not possible to say with certainty because the rating values ​​do not follow a linear order."
   ]
  },
  {
   "cell_type": "code",
   "execution_count": 36,
   "id": "df342093-5693-4bad-b6c5-d732a8bb98d8",
   "metadata": {},
   "outputs": [],
   "source": [
    "# fill_mean = lambda col: col.fillna(col.mean())\n",
    "# listings[['review_scores_value', 'price']] = listings[['review_scores_value', 'price']].apply(fill_mean)"
   ]
  },
  {
   "cell_type": "markdown",
   "id": "5739b498-7965-4098-b389-99e8d0b73e72",
   "metadata": {},
   "source": [
    "## **REVIEWS dataset**\n",
    "---"
   ]
  },
  {
   "cell_type": "code",
   "execution_count": 37,
   "id": "72b170cf-b813-45f6-91bf-defd99e5dcb4",
   "metadata": {},
   "outputs": [
    {
     "data": {
      "text/html": [
       "<div>\n",
       "<style scoped>\n",
       "    .dataframe tbody tr th:only-of-type {\n",
       "        vertical-align: middle;\n",
       "    }\n",
       "\n",
       "    .dataframe tbody tr th {\n",
       "        vertical-align: top;\n",
       "    }\n",
       "\n",
       "    .dataframe thead th {\n",
       "        text-align: right;\n",
       "    }\n",
       "</style>\n",
       "<table border=\"1\" class=\"dataframe\">\n",
       "  <thead>\n",
       "    <tr style=\"text-align: right;\">\n",
       "      <th></th>\n",
       "      <th>listing_id</th>\n",
       "      <th>id</th>\n",
       "      <th>date</th>\n",
       "      <th>reviewer_id</th>\n",
       "      <th>reviewer_name</th>\n",
       "      <th>comments</th>\n",
       "    </tr>\n",
       "  </thead>\n",
       "  <tbody>\n",
       "    <tr>\n",
       "      <th>0</th>\n",
       "      <td>1178162</td>\n",
       "      <td>4724140</td>\n",
       "      <td>2013-05-21</td>\n",
       "      <td>4298113</td>\n",
       "      <td>Olivier</td>\n",
       "      <td>My stay at islam's place was really cool! Good...</td>\n",
       "    </tr>\n",
       "    <tr>\n",
       "      <th>1</th>\n",
       "      <td>1178162</td>\n",
       "      <td>4869189</td>\n",
       "      <td>2013-05-29</td>\n",
       "      <td>6452964</td>\n",
       "      <td>Charlotte</td>\n",
       "      <td>Great location for both airport and city - gre...</td>\n",
       "    </tr>\n",
       "    <tr>\n",
       "      <th>2</th>\n",
       "      <td>1178162</td>\n",
       "      <td>5003196</td>\n",
       "      <td>2013-06-06</td>\n",
       "      <td>6449554</td>\n",
       "      <td>Sebastian</td>\n",
       "      <td>We really enjoyed our stay at Islams house. Fr...</td>\n",
       "    </tr>\n",
       "  </tbody>\n",
       "</table>\n",
       "</div>"
      ],
      "text/plain": [
       "   listing_id       id       date  reviewer_id reviewer_name  \\\n",
       "0     1178162  4724140 2013-05-21      4298113       Olivier   \n",
       "1     1178162  4869189 2013-05-29      6452964     Charlotte   \n",
       "2     1178162  5003196 2013-06-06      6449554     Sebastian   \n",
       "\n",
       "                                            comments  \n",
       "0  My stay at islam's place was really cool! Good...  \n",
       "1  Great location for both airport and city - gre...  \n",
       "2  We really enjoyed our stay at Islams house. Fr...  "
      ]
     },
     "execution_count": 37,
     "metadata": {},
     "output_type": "execute_result"
    }
   ],
   "source": [
    "reviews = pd.read_csv(\"boston/reviews.csv\", parse_dates=['date'])\n",
    "reviews.head(3)"
   ]
  },
  {
   "cell_type": "code",
   "execution_count": 38,
   "id": "7a0d002c-6f3f-45e0-af69-552b2cd06c66",
   "metadata": {},
   "outputs": [
    {
     "name": "stdout",
     "output_type": "stream",
     "text": [
      "[+] numer of rows:  68275\n",
      "[+] numer of columns:  6\n",
      "[+] null percentage:\n",
      "listing_id       0.000000\n",
      "id               0.000000\n",
      "date             0.000000\n",
      "reviewer_id      0.000000\n",
      "reviewer_name    0.000000\n",
      "comments         0.000776\n",
      "dtype: float64\n",
      "[+] max. missing values (column):  comments\n",
      "[+] columns:\n",
      "Index(['listing_id', 'id', 'date', 'reviewer_id', 'reviewer_name', 'comments'], dtype='object')\n",
      "[+] data types II:  {dtype('<M8[ns]'), dtype('O'), dtype('int64')}\n"
     ]
    }
   ],
   "source": [
    "get_explanatory(reviews)"
   ]
  },
  {
   "cell_type": "code",
   "execution_count": 39,
   "id": "60f866e2-a389-4e17-b117-8e6ebeaf1893",
   "metadata": {},
   "outputs": [],
   "source": [
    "listings_interest_columns = ['id', 'neighbourhood', 'price', 'review_scores_rating', 'review_scores_accuracy', 'review_scores_cleanliness',\n",
    "    'review_scores_checkin', 'review_scores_communication', 'review_scores_location', 'review_scores_value']\n",
    "reviews_interest_columns = ['listing_id', 'comments']"
   ]
  },
  {
   "cell_type": "code",
   "execution_count": 40,
   "id": "b08185d6-64a2-40a0-9bc1-8c80cb547eb9",
   "metadata": {},
   "outputs": [
    {
     "data": {
      "text/html": [
       "<div>\n",
       "<style scoped>\n",
       "    .dataframe tbody tr th:only-of-type {\n",
       "        vertical-align: middle;\n",
       "    }\n",
       "\n",
       "    .dataframe tbody tr th {\n",
       "        vertical-align: top;\n",
       "    }\n",
       "\n",
       "    .dataframe thead th {\n",
       "        text-align: right;\n",
       "    }\n",
       "</style>\n",
       "<table border=\"1\" class=\"dataframe\">\n",
       "  <thead>\n",
       "    <tr style=\"text-align: right;\">\n",
       "      <th></th>\n",
       "      <th>id</th>\n",
       "      <th>neighbourhood</th>\n",
       "      <th>price</th>\n",
       "      <th>review_scores_rating</th>\n",
       "      <th>review_scores_accuracy</th>\n",
       "      <th>review_scores_cleanliness</th>\n",
       "      <th>review_scores_checkin</th>\n",
       "      <th>review_scores_communication</th>\n",
       "      <th>review_scores_location</th>\n",
       "      <th>review_scores_value</th>\n",
       "    </tr>\n",
       "  </thead>\n",
       "  <tbody>\n",
       "    <tr>\n",
       "      <th>0</th>\n",
       "      <td>12147973</td>\n",
       "      <td>Roslindale</td>\n",
       "      <td>250.0</td>\n",
       "      <td>NaN</td>\n",
       "      <td>NaN</td>\n",
       "      <td>NaN</td>\n",
       "      <td>NaN</td>\n",
       "      <td>NaN</td>\n",
       "      <td>NaN</td>\n",
       "      <td>NaN</td>\n",
       "    </tr>\n",
       "    <tr>\n",
       "      <th>1</th>\n",
       "      <td>3075044</td>\n",
       "      <td>Roslindale</td>\n",
       "      <td>65.0</td>\n",
       "      <td>94.0</td>\n",
       "      <td>10.0</td>\n",
       "      <td>9.0</td>\n",
       "      <td>10.0</td>\n",
       "      <td>10.0</td>\n",
       "      <td>9.0</td>\n",
       "      <td>9.0</td>\n",
       "    </tr>\n",
       "    <tr>\n",
       "      <th>2</th>\n",
       "      <td>6976</td>\n",
       "      <td>Roslindale</td>\n",
       "      <td>65.0</td>\n",
       "      <td>98.0</td>\n",
       "      <td>10.0</td>\n",
       "      <td>9.0</td>\n",
       "      <td>10.0</td>\n",
       "      <td>10.0</td>\n",
       "      <td>9.0</td>\n",
       "      <td>10.0</td>\n",
       "    </tr>\n",
       "  </tbody>\n",
       "</table>\n",
       "</div>"
      ],
      "text/plain": [
       "         id neighbourhood  price  review_scores_rating  \\\n",
       "0  12147973    Roslindale  250.0                   NaN   \n",
       "1   3075044    Roslindale   65.0                  94.0   \n",
       "2      6976    Roslindale   65.0                  98.0   \n",
       "\n",
       "   review_scores_accuracy  review_scores_cleanliness  review_scores_checkin  \\\n",
       "0                     NaN                        NaN                    NaN   \n",
       "1                    10.0                        9.0                   10.0   \n",
       "2                    10.0                        9.0                   10.0   \n",
       "\n",
       "   review_scores_communication  review_scores_location  review_scores_value  \n",
       "0                          NaN                     NaN                  NaN  \n",
       "1                         10.0                     9.0                  9.0  \n",
       "2                         10.0                     9.0                 10.0  "
      ]
     },
     "execution_count": 40,
     "metadata": {},
     "output_type": "execute_result"
    }
   ],
   "source": [
    "listings_step_x = listings[listings_interest_columns]\n",
    "listings_step_x.head(3)"
   ]
  },
  {
   "cell_type": "code",
   "execution_count": 41,
   "id": "c8f8ae8a-55f4-444e-abe6-46cfa0acf9e2",
   "metadata": {},
   "outputs": [
    {
     "name": "stdout",
     "output_type": "stream",
     "text": [
      "[+] numer of rows:  3585\n",
      "[+] numer of columns:  10\n",
      "[+] null percentage:\n",
      "id                             0.000000\n",
      "neighbourhood                  0.151464\n",
      "price                          0.000000\n",
      "review_scores_rating           0.226778\n",
      "review_scores_accuracy         0.229568\n",
      "review_scores_cleanliness      0.228173\n",
      "review_scores_checkin          0.228731\n",
      "review_scores_communication    0.228173\n",
      "review_scores_location         0.229289\n",
      "review_scores_value            0.229010\n",
      "dtype: float64\n",
      "[+] max. missing values (column):  review_scores_accuracy\n",
      "[+] columns:\n",
      "Index(['id', 'neighbourhood', 'price', 'review_scores_rating',\n",
      "       'review_scores_accuracy', 'review_scores_cleanliness',\n",
      "       'review_scores_checkin', 'review_scores_communication',\n",
      "       'review_scores_location', 'review_scores_value'],\n",
      "      dtype='object')\n",
      "[+] data types II:  {dtype('float64'), dtype('O'), dtype('int64')}\n"
     ]
    }
   ],
   "source": [
    "get_explanatory(listings_step_x)"
   ]
  },
  {
   "cell_type": "code",
   "execution_count": 42,
   "id": "fdf0c412-364f-4de7-a6ad-19a780b59ddb",
   "metadata": {},
   "outputs": [
    {
     "data": {
      "text/html": [
       "<div>\n",
       "<style scoped>\n",
       "    .dataframe tbody tr th:only-of-type {\n",
       "        vertical-align: middle;\n",
       "    }\n",
       "\n",
       "    .dataframe tbody tr th {\n",
       "        vertical-align: top;\n",
       "    }\n",
       "\n",
       "    .dataframe thead th {\n",
       "        text-align: right;\n",
       "    }\n",
       "</style>\n",
       "<table border=\"1\" class=\"dataframe\">\n",
       "  <thead>\n",
       "    <tr style=\"text-align: right;\">\n",
       "      <th></th>\n",
       "      <th>id</th>\n",
       "      <th>comments</th>\n",
       "    </tr>\n",
       "  </thead>\n",
       "  <tbody>\n",
       "    <tr>\n",
       "      <th>0</th>\n",
       "      <td>1178162</td>\n",
       "      <td>My stay at islam's place was really cool! Good...</td>\n",
       "    </tr>\n",
       "    <tr>\n",
       "      <th>1</th>\n",
       "      <td>1178162</td>\n",
       "      <td>Great location for both airport and city - gre...</td>\n",
       "    </tr>\n",
       "    <tr>\n",
       "      <th>2</th>\n",
       "      <td>1178162</td>\n",
       "      <td>We really enjoyed our stay at Islams house. Fr...</td>\n",
       "    </tr>\n",
       "    <tr>\n",
       "      <th>3</th>\n",
       "      <td>1178162</td>\n",
       "      <td>The room was nice and clean and so were the co...</td>\n",
       "    </tr>\n",
       "    <tr>\n",
       "      <th>4</th>\n",
       "      <td>1178162</td>\n",
       "      <td>Great location. Just 5 mins walk from the Airp...</td>\n",
       "    </tr>\n",
       "    <tr>\n",
       "      <th>...</th>\n",
       "      <td>...</td>\n",
       "      <td>...</td>\n",
       "    </tr>\n",
       "    <tr>\n",
       "      <th>68270</th>\n",
       "      <td>7462268</td>\n",
       "      <td>Joe y su mujer son encantadores. La habitación...</td>\n",
       "    </tr>\n",
       "    <tr>\n",
       "      <th>68271</th>\n",
       "      <td>7462268</td>\n",
       "      <td>Joe was on his way to Jamaica to be married! o...</td>\n",
       "    </tr>\n",
       "    <tr>\n",
       "      <th>68272</th>\n",
       "      <td>7462268</td>\n",
       "      <td>The room was very clean as were the bathrooms ...</td>\n",
       "    </tr>\n",
       "    <tr>\n",
       "      <th>68273</th>\n",
       "      <td>7462268</td>\n",
       "      <td>Staying in Lower Allston at Joe and Nancy's pl...</td>\n",
       "    </tr>\n",
       "    <tr>\n",
       "      <th>68274</th>\n",
       "      <td>7462268</td>\n",
       "      <td>The room itself and the aprtment were very cle...</td>\n",
       "    </tr>\n",
       "  </tbody>\n",
       "</table>\n",
       "<p>68275 rows × 2 columns</p>\n",
       "</div>"
      ],
      "text/plain": [
       "            id                                           comments\n",
       "0      1178162  My stay at islam's place was really cool! Good...\n",
       "1      1178162  Great location for both airport and city - gre...\n",
       "2      1178162  We really enjoyed our stay at Islams house. Fr...\n",
       "3      1178162  The room was nice and clean and so were the co...\n",
       "4      1178162  Great location. Just 5 mins walk from the Airp...\n",
       "...        ...                                                ...\n",
       "68270  7462268  Joe y su mujer son encantadores. La habitación...\n",
       "68271  7462268  Joe was on his way to Jamaica to be married! o...\n",
       "68272  7462268  The room was very clean as were the bathrooms ...\n",
       "68273  7462268  Staying in Lower Allston at Joe and Nancy's pl...\n",
       "68274  7462268  The room itself and the aprtment were very cle...\n",
       "\n",
       "[68275 rows x 2 columns]"
      ]
     },
     "execution_count": 42,
     "metadata": {},
     "output_type": "execute_result"
    }
   ],
   "source": [
    "reviews_step_x = reviews[reviews_interest_columns]\n",
    "reviews_step_x.columns = ['id', 'comments']\n",
    "reviews_step_x"
   ]
  },
  {
   "cell_type": "code",
   "execution_count": 43,
   "id": "795c032d-0076-40d4-bc20-51a4d81fe08a",
   "metadata": {},
   "outputs": [
    {
     "data": {
      "text/html": [
       "<div>\n",
       "<style scoped>\n",
       "    .dataframe tbody tr th:only-of-type {\n",
       "        vertical-align: middle;\n",
       "    }\n",
       "\n",
       "    .dataframe tbody tr th {\n",
       "        vertical-align: top;\n",
       "    }\n",
       "\n",
       "    .dataframe thead th {\n",
       "        text-align: right;\n",
       "    }\n",
       "</style>\n",
       "<table border=\"1\" class=\"dataframe\">\n",
       "  <thead>\n",
       "    <tr style=\"text-align: right;\">\n",
       "      <th></th>\n",
       "      <th>id</th>\n",
       "      <th>neighbourhood</th>\n",
       "      <th>price</th>\n",
       "      <th>review_scores_rating</th>\n",
       "      <th>review_scores_accuracy</th>\n",
       "      <th>review_scores_cleanliness</th>\n",
       "      <th>review_scores_checkin</th>\n",
       "      <th>review_scores_communication</th>\n",
       "      <th>review_scores_location</th>\n",
       "      <th>review_scores_value</th>\n",
       "      <th>comments</th>\n",
       "    </tr>\n",
       "  </thead>\n",
       "  <tbody>\n",
       "    <tr>\n",
       "      <th>0</th>\n",
       "      <td>1178162</td>\n",
       "      <td>East Boston</td>\n",
       "      <td>95.0</td>\n",
       "      <td>86.0</td>\n",
       "      <td>9.0</td>\n",
       "      <td>9.0</td>\n",
       "      <td>9.0</td>\n",
       "      <td>9.0</td>\n",
       "      <td>8.0</td>\n",
       "      <td>9.0</td>\n",
       "      <td>My stay at islam's place was really cool! Good...</td>\n",
       "    </tr>\n",
       "    <tr>\n",
       "      <th>1</th>\n",
       "      <td>1178162</td>\n",
       "      <td>East Boston</td>\n",
       "      <td>95.0</td>\n",
       "      <td>86.0</td>\n",
       "      <td>9.0</td>\n",
       "      <td>9.0</td>\n",
       "      <td>9.0</td>\n",
       "      <td>9.0</td>\n",
       "      <td>8.0</td>\n",
       "      <td>9.0</td>\n",
       "      <td>Great location for both airport and city - gre...</td>\n",
       "    </tr>\n",
       "    <tr>\n",
       "      <th>2</th>\n",
       "      <td>1178162</td>\n",
       "      <td>East Boston</td>\n",
       "      <td>95.0</td>\n",
       "      <td>86.0</td>\n",
       "      <td>9.0</td>\n",
       "      <td>9.0</td>\n",
       "      <td>9.0</td>\n",
       "      <td>9.0</td>\n",
       "      <td>8.0</td>\n",
       "      <td>9.0</td>\n",
       "      <td>We really enjoyed our stay at Islams house. Fr...</td>\n",
       "    </tr>\n",
       "    <tr>\n",
       "      <th>3</th>\n",
       "      <td>1178162</td>\n",
       "      <td>East Boston</td>\n",
       "      <td>95.0</td>\n",
       "      <td>86.0</td>\n",
       "      <td>9.0</td>\n",
       "      <td>9.0</td>\n",
       "      <td>9.0</td>\n",
       "      <td>9.0</td>\n",
       "      <td>8.0</td>\n",
       "      <td>9.0</td>\n",
       "      <td>The room was nice and clean and so were the co...</td>\n",
       "    </tr>\n",
       "    <tr>\n",
       "      <th>4</th>\n",
       "      <td>1178162</td>\n",
       "      <td>East Boston</td>\n",
       "      <td>95.0</td>\n",
       "      <td>86.0</td>\n",
       "      <td>9.0</td>\n",
       "      <td>9.0</td>\n",
       "      <td>9.0</td>\n",
       "      <td>9.0</td>\n",
       "      <td>8.0</td>\n",
       "      <td>9.0</td>\n",
       "      <td>Great location. Just 5 mins walk from the Airp...</td>\n",
       "    </tr>\n",
       "    <tr>\n",
       "      <th>...</th>\n",
       "      <td>...</td>\n",
       "      <td>...</td>\n",
       "      <td>...</td>\n",
       "      <td>...</td>\n",
       "      <td>...</td>\n",
       "      <td>...</td>\n",
       "      <td>...</td>\n",
       "      <td>...</td>\n",
       "      <td>...</td>\n",
       "      <td>...</td>\n",
       "      <td>...</td>\n",
       "    </tr>\n",
       "    <tr>\n",
       "      <th>68270</th>\n",
       "      <td>7462268</td>\n",
       "      <td>NaN</td>\n",
       "      <td>75.0</td>\n",
       "      <td>97.0</td>\n",
       "      <td>10.0</td>\n",
       "      <td>10.0</td>\n",
       "      <td>10.0</td>\n",
       "      <td>10.0</td>\n",
       "      <td>9.0</td>\n",
       "      <td>10.0</td>\n",
       "      <td>Joe y su mujer son encantadores. La habitación...</td>\n",
       "    </tr>\n",
       "    <tr>\n",
       "      <th>68271</th>\n",
       "      <td>7462268</td>\n",
       "      <td>NaN</td>\n",
       "      <td>75.0</td>\n",
       "      <td>97.0</td>\n",
       "      <td>10.0</td>\n",
       "      <td>10.0</td>\n",
       "      <td>10.0</td>\n",
       "      <td>10.0</td>\n",
       "      <td>9.0</td>\n",
       "      <td>10.0</td>\n",
       "      <td>Joe was on his way to Jamaica to be married! o...</td>\n",
       "    </tr>\n",
       "    <tr>\n",
       "      <th>68272</th>\n",
       "      <td>7462268</td>\n",
       "      <td>NaN</td>\n",
       "      <td>75.0</td>\n",
       "      <td>97.0</td>\n",
       "      <td>10.0</td>\n",
       "      <td>10.0</td>\n",
       "      <td>10.0</td>\n",
       "      <td>10.0</td>\n",
       "      <td>9.0</td>\n",
       "      <td>10.0</td>\n",
       "      <td>The room was very clean as were the bathrooms ...</td>\n",
       "    </tr>\n",
       "    <tr>\n",
       "      <th>68273</th>\n",
       "      <td>7462268</td>\n",
       "      <td>NaN</td>\n",
       "      <td>75.0</td>\n",
       "      <td>97.0</td>\n",
       "      <td>10.0</td>\n",
       "      <td>10.0</td>\n",
       "      <td>10.0</td>\n",
       "      <td>10.0</td>\n",
       "      <td>9.0</td>\n",
       "      <td>10.0</td>\n",
       "      <td>Staying in Lower Allston at Joe and Nancy's pl...</td>\n",
       "    </tr>\n",
       "    <tr>\n",
       "      <th>68274</th>\n",
       "      <td>7462268</td>\n",
       "      <td>NaN</td>\n",
       "      <td>75.0</td>\n",
       "      <td>97.0</td>\n",
       "      <td>10.0</td>\n",
       "      <td>10.0</td>\n",
       "      <td>10.0</td>\n",
       "      <td>10.0</td>\n",
       "      <td>9.0</td>\n",
       "      <td>10.0</td>\n",
       "      <td>The room itself and the aprtment were very cle...</td>\n",
       "    </tr>\n",
       "  </tbody>\n",
       "</table>\n",
       "<p>68275 rows × 11 columns</p>\n",
       "</div>"
      ],
      "text/plain": [
       "            id neighbourhood  price  review_scores_rating  \\\n",
       "0      1178162   East Boston   95.0                  86.0   \n",
       "1      1178162   East Boston   95.0                  86.0   \n",
       "2      1178162   East Boston   95.0                  86.0   \n",
       "3      1178162   East Boston   95.0                  86.0   \n",
       "4      1178162   East Boston   95.0                  86.0   \n",
       "...        ...           ...    ...                   ...   \n",
       "68270  7462268           NaN   75.0                  97.0   \n",
       "68271  7462268           NaN   75.0                  97.0   \n",
       "68272  7462268           NaN   75.0                  97.0   \n",
       "68273  7462268           NaN   75.0                  97.0   \n",
       "68274  7462268           NaN   75.0                  97.0   \n",
       "\n",
       "       review_scores_accuracy  review_scores_cleanliness  \\\n",
       "0                         9.0                        9.0   \n",
       "1                         9.0                        9.0   \n",
       "2                         9.0                        9.0   \n",
       "3                         9.0                        9.0   \n",
       "4                         9.0                        9.0   \n",
       "...                       ...                        ...   \n",
       "68270                    10.0                       10.0   \n",
       "68271                    10.0                       10.0   \n",
       "68272                    10.0                       10.0   \n",
       "68273                    10.0                       10.0   \n",
       "68274                    10.0                       10.0   \n",
       "\n",
       "       review_scores_checkin  review_scores_communication  \\\n",
       "0                        9.0                          9.0   \n",
       "1                        9.0                          9.0   \n",
       "2                        9.0                          9.0   \n",
       "3                        9.0                          9.0   \n",
       "4                        9.0                          9.0   \n",
       "...                      ...                          ...   \n",
       "68270                   10.0                         10.0   \n",
       "68271                   10.0                         10.0   \n",
       "68272                   10.0                         10.0   \n",
       "68273                   10.0                         10.0   \n",
       "68274                   10.0                         10.0   \n",
       "\n",
       "       review_scores_location  review_scores_value  \\\n",
       "0                         8.0                  9.0   \n",
       "1                         8.0                  9.0   \n",
       "2                         8.0                  9.0   \n",
       "3                         8.0                  9.0   \n",
       "4                         8.0                  9.0   \n",
       "...                       ...                  ...   \n",
       "68270                     9.0                 10.0   \n",
       "68271                     9.0                 10.0   \n",
       "68272                     9.0                 10.0   \n",
       "68273                     9.0                 10.0   \n",
       "68274                     9.0                 10.0   \n",
       "\n",
       "                                                comments  \n",
       "0      My stay at islam's place was really cool! Good...  \n",
       "1      Great location for both airport and city - gre...  \n",
       "2      We really enjoyed our stay at Islams house. Fr...  \n",
       "3      The room was nice and clean and so were the co...  \n",
       "4      Great location. Just 5 mins walk from the Airp...  \n",
       "...                                                  ...  \n",
       "68270  Joe y su mujer son encantadores. La habitación...  \n",
       "68271  Joe was on his way to Jamaica to be married! o...  \n",
       "68272  The room was very clean as were the bathrooms ...  \n",
       "68273  Staying in Lower Allston at Joe and Nancy's pl...  \n",
       "68274  The room itself and the aprtment were very cle...  \n",
       "\n",
       "[68275 rows x 11 columns]"
      ]
     },
     "execution_count": 43,
     "metadata": {},
     "output_type": "execute_result"
    }
   ],
   "source": [
    "listings_reviews = listings_step_x.merge(reviews_step_x, on=\"id\", how=\"right\")\n",
    "listings_reviews"
   ]
  },
  {
   "cell_type": "code",
   "execution_count": 44,
   "id": "67b31afe-d2be-4277-91eb-7d1b0102cf64",
   "metadata": {},
   "outputs": [],
   "source": [
    "numeric_columns_listings = listings_reviews.select_dtypes(include=['float', 'int']).columns\n",
    "listings_reviews[numeric_columns_listings] = listings_reviews[numeric_columns_listings].apply(lambda col: col.fillna(col.mean()), axis=1)"
   ]
  },
  {
   "cell_type": "code",
   "execution_count": 45,
   "id": "c5613276-970d-450c-8bd2-68dfdd052d26",
   "metadata": {},
   "outputs": [],
   "source": [
    "listings_reviews.dropna(subset=['neighbourhood'], axis=0, inplace=True)"
   ]
  },
  {
   "cell_type": "code",
   "execution_count": 46,
   "id": "032f881f-0205-46d3-95c5-720363ce4579",
   "metadata": {},
   "outputs": [
    {
     "name": "stdout",
     "output_type": "stream",
     "text": [
      "[+] numer of rows:  60771\n",
      "[+] numer of columns:  11\n",
      "[+] null percentage:\n",
      "id                             0.000000\n",
      "neighbourhood                  0.000000\n",
      "price                          0.000000\n",
      "review_scores_rating           0.000000\n",
      "review_scores_accuracy         0.000000\n",
      "review_scores_cleanliness      0.000000\n",
      "review_scores_checkin          0.000000\n",
      "review_scores_communication    0.000000\n",
      "review_scores_location         0.000000\n",
      "review_scores_value            0.000000\n",
      "comments                       0.000675\n",
      "dtype: float64\n",
      "[+] max. missing values (column):  comments\n",
      "[+] columns:\n",
      "Index(['id', 'neighbourhood', 'price', 'review_scores_rating',\n",
      "       'review_scores_accuracy', 'review_scores_cleanliness',\n",
      "       'review_scores_checkin', 'review_scores_communication',\n",
      "       'review_scores_location', 'review_scores_value', 'comments'],\n",
      "      dtype='object')\n",
      "[+] data types II:  {dtype('float64'), dtype('O'), dtype('int64')}\n"
     ]
    }
   ],
   "source": [
    "get_explanatory(listings_reviews)"
   ]
  },
  {
   "cell_type": "code",
   "execution_count": 47,
   "id": "1b0ead76-2efb-48ed-83ff-5362a11f1320",
   "metadata": {},
   "outputs": [
    {
     "data": {
      "text/plain": [
       "60545"
      ]
     },
     "execution_count": 47,
     "metadata": {},
     "output_type": "execute_result"
    }
   ],
   "source": [
    "pd.DataFrame(listings_reviews.query(\"review_scores_rating >= 70.0\"))['neighbourhood'].value_counts().sum()"
   ]
  },
  {
   "cell_type": "code",
   "execution_count": 48,
   "id": "4f24f955-c764-4364-bdfc-85aa4926b4a7",
   "metadata": {},
   "outputs": [
    {
     "data": {
      "text/plain": [
       "Jamaica Plain       8641\n",
       "Dorchester          6410\n",
       "South End           5141\n",
       "Allston-Brighton    5106\n",
       "East Boston         4622\n",
       "Name: neighbourhood, dtype: int64"
      ]
     },
     "execution_count": 48,
     "metadata": {},
     "output_type": "execute_result"
    }
   ],
   "source": [
    "# reviews greater than 70.0\n",
    "reviews_gt_70 = pd.DataFrame(listings_reviews.query(\"review_scores_rating >= 70.0\"))['neighbourhood'].value_counts()\n",
    "reviews_gt_70.head()"
   ]
  },
  {
   "cell_type": "code",
   "execution_count": 49,
   "id": "702233c2-8697-41dc-b341-8707f78c5ffc",
   "metadata": {},
   "outputs": [
    {
     "data": {
      "image/png": "[encoded data removed]",
      "text/plain": [
       "<Figure size 432x288 with 1 Axes>"
      ]
     },
     "metadata": {
      "needs_background": "light"
     },
     "output_type": "display_data"
    }
   ],
   "source": [
    "pd.DataFrame(listings_reviews.query(\"review_scores_rating >= 70.0\"))['neighbourhood'].value_counts().head().sort_values(ascending=True).plot(kind=\"barh\", color=\"royalblue\");"
   ]
  },
  {
   "cell_type": "code",
   "execution_count": 50,
   "id": "bacfc396-33d2-4847-bbf2-0c403954bc8e",
   "metadata": {},
   "outputs": [
    {
     "data": {
      "text/plain": [
       "226"
      ]
     },
     "execution_count": 50,
     "metadata": {},
     "output_type": "execute_result"
    }
   ],
   "source": [
    "pd.DataFrame(listings_reviews.query(\"review_scores_rating < 70.0\"))['neighbourhood'].value_counts().sum()"
   ]
  },
  {
   "cell_type": "code",
   "execution_count": 51,
   "id": "53e003fe-f60b-4e02-94f2-84d9a7e16df8",
   "metadata": {},
   "outputs": [
    {
     "data": {
      "text/plain": [
       "Dorchester          52\n",
       "Allston-Brighton    50\n",
       "Mission Hill        33\n",
       "Beacon Hill         14\n",
       "Fenway/Kenmore      14\n",
       "Name: neighbourhood, dtype: int64"
      ]
     },
     "execution_count": 51,
     "metadata": {},
     "output_type": "execute_result"
    }
   ],
   "source": [
    "# reviews lower than 70.0\n",
    "reviews_lt_70 = pd.DataFrame(listings_reviews.query(\"review_scores_rating < 70.0\"))['neighbourhood'].value_counts()\n",
    "reviews_lt_70.head()"
   ]
  },
  {
   "cell_type": "code",
   "execution_count": 52,
   "id": "cde06fd5-7138-431a-bb02-a6c442234bde",
   "metadata": {},
   "outputs": [
    {
     "data": {
      "text/html": [
       "<div>\n",
       "<style scoped>\n",
       "    .dataframe tbody tr th:only-of-type {\n",
       "        vertical-align: middle;\n",
       "    }\n",
       "\n",
       "    .dataframe tbody tr th {\n",
       "        vertical-align: top;\n",
       "    }\n",
       "\n",
       "    .dataframe thead th {\n",
       "        text-align: right;\n",
       "    }\n",
       "</style>\n",
       "<table border=\"1\" class=\"dataframe\">\n",
       "  <thead>\n",
       "    <tr style=\"text-align: right;\">\n",
       "      <th></th>\n",
       "      <th>Greater Than 70</th>\n",
       "      <th>Lower Than 70</th>\n",
       "    </tr>\n",
       "  </thead>\n",
       "  <tbody>\n",
       "    <tr>\n",
       "      <th>Jamaica Plain</th>\n",
       "      <td>8641</td>\n",
       "      <td>3.0</td>\n",
       "    </tr>\n",
       "    <tr>\n",
       "      <th>Dorchester</th>\n",
       "      <td>6410</td>\n",
       "      <td>52.0</td>\n",
       "    </tr>\n",
       "    <tr>\n",
       "      <th>South End</th>\n",
       "      <td>5141</td>\n",
       "      <td>9.0</td>\n",
       "    </tr>\n",
       "    <tr>\n",
       "      <th>Allston-Brighton</th>\n",
       "      <td>5106</td>\n",
       "      <td>50.0</td>\n",
       "    </tr>\n",
       "    <tr>\n",
       "      <th>East Boston</th>\n",
       "      <td>4622</td>\n",
       "      <td>14.0</td>\n",
       "    </tr>\n",
       "    <tr>\n",
       "      <th>Back Bay</th>\n",
       "      <td>4367</td>\n",
       "      <td>11.0</td>\n",
       "    </tr>\n",
       "    <tr>\n",
       "      <th>South Boston</th>\n",
       "      <td>4251</td>\n",
       "      <td>2.0</td>\n",
       "    </tr>\n",
       "    <tr>\n",
       "      <th>North End</th>\n",
       "      <td>4094</td>\n",
       "      <td>5.0</td>\n",
       "    </tr>\n",
       "    <tr>\n",
       "      <th>Beacon Hill</th>\n",
       "      <td>3480</td>\n",
       "      <td>14.0</td>\n",
       "    </tr>\n",
       "    <tr>\n",
       "      <th>Roxbury</th>\n",
       "      <td>3234</td>\n",
       "      <td>2.0</td>\n",
       "    </tr>\n",
       "    <tr>\n",
       "      <th>Fenway/Kenmore</th>\n",
       "      <td>2772</td>\n",
       "      <td>14.0</td>\n",
       "    </tr>\n",
       "    <tr>\n",
       "      <th>Charlestown</th>\n",
       "      <td>1897</td>\n",
       "      <td>1.0</td>\n",
       "    </tr>\n",
       "    <tr>\n",
       "      <th>Mission Hill</th>\n",
       "      <td>1300</td>\n",
       "      <td>33.0</td>\n",
       "    </tr>\n",
       "    <tr>\n",
       "      <th>Chinatown</th>\n",
       "      <td>649</td>\n",
       "      <td>2.0</td>\n",
       "    </tr>\n",
       "    <tr>\n",
       "      <th>Hyde Park</th>\n",
       "      <td>266</td>\n",
       "      <td>1.0</td>\n",
       "    </tr>\n",
       "    <tr>\n",
       "      <th>Mattapan</th>\n",
       "      <td>141</td>\n",
       "      <td>7.0</td>\n",
       "    </tr>\n",
       "    <tr>\n",
       "      <th>Downtown</th>\n",
       "      <td>86</td>\n",
       "      <td>5.0</td>\n",
       "    </tr>\n",
       "    <tr>\n",
       "      <th>Cambridge</th>\n",
       "      <td>38</td>\n",
       "      <td>1.0</td>\n",
       "    </tr>\n",
       "  </tbody>\n",
       "</table>\n",
       "</div>"
      ],
      "text/plain": [
       "                  Greater Than 70  Lower Than 70\n",
       "Jamaica Plain                8641            3.0\n",
       "Dorchester                   6410           52.0\n",
       "South End                    5141            9.0\n",
       "Allston-Brighton             5106           50.0\n",
       "East Boston                  4622           14.0\n",
       "Back Bay                     4367           11.0\n",
       "South Boston                 4251            2.0\n",
       "North End                    4094            5.0\n",
       "Beacon Hill                  3480           14.0\n",
       "Roxbury                      3234            2.0\n",
       "Fenway/Kenmore               2772           14.0\n",
       "Charlestown                  1897            1.0\n",
       "Mission Hill                 1300           33.0\n",
       "Chinatown                     649            2.0\n",
       "Hyde Park                     266            1.0\n",
       "Mattapan                      141            7.0\n",
       "Downtown                       86            5.0\n",
       "Cambridge                      38            1.0"
      ]
     },
     "execution_count": 52,
     "metadata": {},
     "output_type": "execute_result"
    }
   ],
   "source": [
    "reviews_overview = pd.concat([reviews_gt_70, reviews_lt_70], axis=1).dropna()\n",
    "reviews_overview.columns = [\"Greater Than 70\", \"Lower Than 70\"]\n",
    "reviews_overview.sort_values(by=['Greater Than 70', 'Lower Than 70'], ascending=False)"
   ]
  },
  {
   "cell_type": "code",
   "execution_count": 53,
   "id": "8dff703a-b4d3-41be-955e-113aebfecce7",
   "metadata": {},
   "outputs": [
    {
     "data": {
      "text/plain": [
       "neighbourhood\n",
       "Financial District    100.392857\n",
       "Brookline             100.000000\n",
       "Leather District       98.188679\n",
       "Charlestown            95.507903\n",
       "Roslindale             95.478528\n",
       "Name: review_scores_rating, dtype: float64"
      ]
     },
     "execution_count": 53,
     "metadata": {},
     "output_type": "execute_result"
    }
   ],
   "source": [
    "listings_reviews.groupby(['neighbourhood'])['review_scores_rating'].mean().sort_values(ascending=False).head()"
   ]
  },
  {
   "cell_type": "code",
   "execution_count": 54,
   "id": "5c95a859-f1d8-4a34-b183-9122baba4ece",
   "metadata": {},
   "outputs": [
    {
     "data": {
      "image/png": "[encoded data removed]",
      "text/plain": [
       "<Figure size 432x288 with 1 Axes>"
      ]
     },
     "metadata": {
      "needs_background": "light"
     },
     "output_type": "display_data"
    }
   ],
   "source": [
    "# relationship between higher and lower than average ratings\n",
    "reviews_overview.head().plot(kind=\"bar\", color=[\"royalblue\", \"red\"]);"
   ]
  },
  {
   "cell_type": "code",
   "execution_count": 55,
   "id": "2b689a59-2d49-4a03-ac73-b0f814912a48",
   "metadata": {},
   "outputs": [
    {
     "data": {
      "image/png": "[encoded data removed]",
      "text/plain": [
       "<Figure size 432x288 with 1 Axes>"
      ]
     },
     "metadata": {
      "needs_background": "light"
     },
     "output_type": "display_data"
    }
   ],
   "source": [
    "# neighborhoods with average ratings lower than 7.0\n",
    "listings_reviews[listings_reviews.review_scores_rating < 70.0]['neighbourhood'].value_counts().head(5).sort_values(ascending=True).plot(kind=\"barh\", color=\"royalblue\", title=\"Ratings lower than average\");"
   ]
  },
  {
   "cell_type": "code",
   "execution_count": 56,
   "id": "78c71b78-4e59-4f38-8305-d5779c01848e",
   "metadata": {},
   "outputs": [
    {
     "data": {
      "image/png": "[encoded data removed]",
      "text/plain": [
       "<Figure size 432x288 with 1 Axes>"
      ]
     },
     "metadata": {
      "needs_background": "light"
     },
     "output_type": "display_data"
    }
   ],
   "source": [
    "# neighborhoods with average ratings greater than or equal 7.0\n",
    "listings_reviews[listings_reviews.review_scores_rating >= 70.0]['neighbourhood'].value_counts().head(5).sort_values(ascending=True).plot(kind=\"barh\", color=\"royalblue\", title=\"Ratings higher than average\");"
   ]
  },
  {
   "cell_type": "markdown",
   "id": "37873531-c195-4c8f-b22c-0b74616709e8",
   "metadata": {},
   "source": [
    "# **3. Modeling**"
   ]
  },
  {
   "cell_type": "code",
   "execution_count": 57,
   "id": "dd2953b5-a9f5-4099-941b-a871da44833f",
   "metadata": {},
   "outputs": [],
   "source": [
    "def char_to_boolean(row: str) -> bool:\n",
    "    '''\n",
    "    change string fields to booleans\n",
    "    \n",
    "    Args:\n",
    "        - row: str -> column rows to be analyzed\n",
    "        \n",
    "    Returns:\n",
    "        - True or False according to row value ('t': True, 'f': False)\n",
    "    \n",
    "    '''\n",
    "    return True if row == 't' else False"
   ]
  },
  {
   "cell_type": "code",
   "execution_count": 58,
   "id": "5e87820a-a43f-45e9-b7fc-4f1e0536e371",
   "metadata": {},
   "outputs": [],
   "source": [
    "important_columns = ['neighbourhood', 'property_type',\n",
    "    'room_type', 'accommodates', 'bathrooms', 'host_since',\n",
    "    'bedrooms', 'beds', 'price', 'guests_included']\n",
    "\n",
    "cleaned_listings = listings[important_columns].copy() # choosing only the fields considered main to predict the price\n",
    "cleaned_listings['host_since'] = pd.DatetimeIndex(cleaned_listings['host_since']).year"
   ]
  },
  {
   "cell_type": "code",
   "execution_count": 59,
   "id": "40ca6c9a-a348-42e0-9e46-187e60cf0d8c",
   "metadata": {},
   "outputs": [
    {
     "data": {
      "text/plain": [
       "['neighbourhood',\n",
       " 'property_type',\n",
       " 'room_type',\n",
       " 'accommodates',\n",
       " 'bathrooms',\n",
       " 'host_since',\n",
       " 'bedrooms',\n",
       " 'beds',\n",
       " 'price',\n",
       " 'guests_included']"
      ]
     },
     "execution_count": 59,
     "metadata": {},
     "output_type": "execute_result"
    }
   ],
   "source": [
    "list(cleaned_listings.columns)"
   ]
  },
  {
   "cell_type": "code",
   "execution_count": 60,
   "id": "b08f9f08-17a3-4864-b5f7-51fc26af1d3b",
   "metadata": {},
   "outputs": [
    {
     "data": {
      "text/plain": [
       "bathrooms    0.003905\n",
       "bedrooms     0.002789\n",
       "beds         0.002510\n",
       "price        0.000000\n",
       "dtype: float64"
      ]
     },
     "execution_count": 60,
     "metadata": {},
     "output_type": "execute_result"
    }
   ],
   "source": [
    "# exploring numerical data\n",
    "df_numerical_columns = cleaned_listings.select_dtypes(include=['int', 'float']).columns\n",
    "cleaned_listings[df_numerical_columns].isnull().mean()"
   ]
  },
  {
   "cell_type": "code",
   "execution_count": 61,
   "id": "f4bda72c-0164-4880-bf20-e29db121b088",
   "metadata": {},
   "outputs": [],
   "source": [
    "# imputating mean on numerical values\n",
    "fill_mean = lambda col: col.fillna(col.mean())\n",
    "cleaned_listings[df_numerical_columns] = cleaned_listings[df_numerical_columns].apply(fill_mean, axis=0)"
   ]
  },
  {
   "cell_type": "code",
   "execution_count": 62,
   "id": "451823f1-7aee-46e7-a20f-c04b06ea8d8a",
   "metadata": {},
   "outputs": [
    {
     "data": {
      "text/plain": [
       "bathrooms    0.0\n",
       "bedrooms     0.0\n",
       "beds         0.0\n",
       "price        0.0\n",
       "dtype: float64"
      ]
     },
     "execution_count": 62,
     "metadata": {},
     "output_type": "execute_result"
    }
   ],
   "source": [
    "cleaned_listings[df_numerical_columns].isnull().mean()"
   ]
  },
  {
   "cell_type": "code",
   "execution_count": 63,
   "id": "15a6210f-4933-4e43-82f9-f0afd7c38f52",
   "metadata": {},
   "outputs": [],
   "source": [
    "# exploring categorical data\n",
    "df_categorical_columns = cleaned_listings.select_dtypes(include=['object']).columns\n",
    "# dummy variables\n",
    "for variable in df_categorical_columns:\n",
    "    cleaned_listings = pd.concat([cleaned_listings.drop(variable, axis=1), pd.get_dummies(cleaned_listings[variable], prefix=variable, prefix_sep='_', dummy_na=True, drop_first=True)], axis=1)"
   ]
  },
  {
   "cell_type": "code",
   "execution_count": 64,
   "id": "78989b2a-2db7-4aab-a62f-e1174cf368ab",
   "metadata": {},
   "outputs": [],
   "source": [
    "X = cleaned_listings.drop(['price'], axis=1)\n",
    "y = cleaned_listings['price']"
   ]
  },
  {
   "cell_type": "code",
   "execution_count": 65,
   "id": "eade6db4-6a48-4a7e-bc32-9bcd64ea0f1e",
   "metadata": {},
   "outputs": [],
   "source": [
    "X_train, X_test, y_train, y_test = train_test_split(X, y, test_size=0.3, random_state=2513) # split data in train & test. The random_state was choosen by test"
   ]
  },
  {
   "cell_type": "code",
   "execution_count": 66,
   "id": "e4e12bb5-481d-45a0-b38b-13ace219454c",
   "metadata": {},
   "outputs": [
    {
     "data": {
      "text/plain": [
       "((2509, 52), (2509,), (1076, 52), (1076,))"
      ]
     },
     "execution_count": 66,
     "metadata": {},
     "output_type": "execute_result"
    }
   ],
   "source": [
    "X_train.shape, y_train.shape, X_test.shape, y_test.shape # checking the shapes - how many data goes to learning"
   ]
  },
  {
   "cell_type": "code",
   "execution_count": 67,
   "id": "067fab96-22c4-4fdb-aa73-1f322a67714c",
   "metadata": {},
   "outputs": [
    {
     "data": {
      "text/plain": [
       "LinearRegression(normalize=True)"
      ]
     },
     "execution_count": 67,
     "metadata": {},
     "output_type": "execute_result"
    }
   ],
   "source": [
    "lm_model = LinearRegression(normalize=True) # instantiate the Linear Regression model\n",
    "lm_model.fit(X_train, y_train) #fit the model on train data"
   ]
  },
  {
   "cell_type": "code",
   "execution_count": 68,
   "id": "6daacd06-2436-427d-9159-94f27d3fb651",
   "metadata": {},
   "outputs": [
    {
     "name": "stdout",
     "output_type": "stream",
     "text": [
      "mean squared error: 5108.26\n",
      "r-squared score for test model was 0.5669556105555928 on 1076 values.\n",
      "r-squared score for train model was 0.2905793764881407 on 2509 values.\n"
     ]
    }
   ],
   "source": [
    "# predict the model for test and train\n",
    "y_test_preds = lm_model.predict(X_test) \n",
    "y_train_preds = lm_model.predict(X_train) \n",
    "\n",
    "# calculate the r-squared & mean_squared_error\n",
    "rsquared_score_test = r2_score(y_test, y_test_preds)\n",
    "rsquared_score_train = r2_score(y_train, y_train_preds)\n",
    "ms_error = mean_squared_error(y_test, y_test_preds) # calculate mean squared error\n",
    "length_y_test = len(y_test)\n",
    "length_y_train = len(y_train)\n",
    "\n",
    "print('mean squared error: %.2f' % ms_error)\n",
    "print(\"r-squared score for test model was {} on {} values.\".format(rsquared_score_test, length_y_test))\n",
    "print(\"r-squared score for train model was {} on {} values.\".format(rsquared_score_train, length_y_train))"
   ]
  },
  {
   "cell_type": "code",
   "execution_count": 69,
   "id": "a0b86304-f686-4868-a853-7705545b049a",
   "metadata": {},
   "outputs": [],
   "source": [
    "# instatiating PCA to change the shape of the X_test to fit the scatter plot\n",
    "pca = PCA(n_components=1)\n",
    "x_test = pca.fit_transform(X_test)"
   ]
  },
  {
   "cell_type": "code",
   "execution_count": 70,
   "id": "9d3315ee-eb4e-4964-9ac0-475de669265f",
   "metadata": {},
   "outputs": [
    {
     "data": {
      "text/plain": [
       "((1076, 1), (1076,))"
      ]
     },
     "execution_count": 70,
     "metadata": {},
     "output_type": "execute_result"
    }
   ],
   "source": [
    "x_test.shape, y_test.shape"
   ]
  },
  {
   "cell_type": "code",
   "execution_count": 71,
   "id": "1d6e3889-9de0-40e7-ae58-1394cecee477",
   "metadata": {},
   "outputs": [
    {
     "data": {
      "image/png": "[encoded data removed]",
      "text/plain": [
       "<Figure size 432x288 with 1 Axes>"
      ]
     },
     "metadata": {
      "needs_background": "light"
     },
     "output_type": "display_data"
    }
   ],
   "source": [
    "# visualize the data \n",
    "\n",
    "sns.regplot(x=x_test, y=y_test, color='royalblue', label='Features')\n",
    "sns.regplot(x=x_test, y=y_test_preds, color='limegreen', label='Predictions')\n",
    "\n",
    "plt.title(\"Price prediction\")\n",
    "plt.legend(loc='lower right')\n",
    "plt.show()"
   ]
  },
  {
   "cell_type": "code",
   "execution_count": 72,
   "id": "6fa4c4f3-44b4-44e8-9872-b2421a81f77c",
   "metadata": {},
   "outputs": [],
   "source": [
    "# based on Udacity lessons\n",
    "def coef_weights(coefficients, X_train):\n",
    "    '''\n",
    "    Provides a dataframe that can be used to understand the most influential coefficients\n",
    "    in a linear model by providing the coefficient estimates along with the name of the \n",
    "    variable attached to the coefficient.\n",
    "    \n",
    "    Args:\n",
    "    coefficients - the coefficients of the linear model \n",
    "    X_train - the training data, so the column names can be used\n",
    "    \n",
    "    Returns:\n",
    "    coefs_df - a dataframe holding the coefficient, estimate, and abs(estimate)\n",
    "    '''\n",
    "    coefs_df = pd.DataFrame()\n",
    "    coefs_df['est_int'] = X_train.columns\n",
    "    coefs_df['coefs'] = lm_model.coef_\n",
    "    coefs_df['abs_coefs'] = np.abs(lm_model.coef_)\n",
    "    coefs_df = coefs_df.sort_values('abs_coefs', ascending=False)\n",
    "    return coefs_df"
   ]
  },
  {
   "cell_type": "code",
   "execution_count": 73,
   "id": "8337ace8-0a5c-43a6-97b9-a94dd3f884fc",
   "metadata": {},
   "outputs": [
    {
     "data": {
      "text/html": [
       "<div>\n",
       "<style scoped>\n",
       "    .dataframe tbody tr th:only-of-type {\n",
       "        vertical-align: middle;\n",
       "    }\n",
       "\n",
       "    .dataframe tbody tr th {\n",
       "        vertical-align: top;\n",
       "    }\n",
       "\n",
       "    .dataframe thead th {\n",
       "        text-align: right;\n",
       "    }\n",
       "</style>\n",
       "<table border=\"1\" class=\"dataframe\">\n",
       "  <thead>\n",
       "    <tr style=\"text-align: right;\">\n",
       "      <th></th>\n",
       "      <th>est_int</th>\n",
       "      <th>coefs</th>\n",
       "      <th>abs_coefs</th>\n",
       "    </tr>\n",
       "  </thead>\n",
       "  <tbody>\n",
       "    <tr>\n",
       "      <th>20</th>\n",
       "      <td>neighbourhood_Harvard Square</td>\n",
       "      <td>-177.490863</td>\n",
       "      <td>177.490863</td>\n",
       "    </tr>\n",
       "    <tr>\n",
       "      <th>15</th>\n",
       "      <td>neighbourhood_Downtown Crossing</td>\n",
       "      <td>114.157138</td>\n",
       "      <td>114.157138</td>\n",
       "    </tr>\n",
       "    <tr>\n",
       "      <th>18</th>\n",
       "      <td>neighbourhood_Financial District</td>\n",
       "      <td>111.947424</td>\n",
       "      <td>111.947424</td>\n",
       "    </tr>\n",
       "    <tr>\n",
       "      <th>17</th>\n",
       "      <td>neighbourhood_Fenway/Kenmore</td>\n",
       "      <td>100.678897</td>\n",
       "      <td>100.678897</td>\n",
       "    </tr>\n",
       "    <tr>\n",
       "      <th>6</th>\n",
       "      <td>neighbourhood_Back Bay</td>\n",
       "      <td>93.764680</td>\n",
       "      <td>93.764680</td>\n",
       "    </tr>\n",
       "  </tbody>\n",
       "</table>\n",
       "</div>"
      ],
      "text/plain": [
       "                             est_int       coefs   abs_coefs\n",
       "20      neighbourhood_Harvard Square -177.490863  177.490863\n",
       "15   neighbourhood_Downtown Crossing  114.157138  114.157138\n",
       "18  neighbourhood_Financial District  111.947424  111.947424\n",
       "17      neighbourhood_Fenway/Kenmore  100.678897  100.678897\n",
       "6             neighbourhood_Back Bay   93.764680   93.764680"
      ]
     },
     "execution_count": 73,
     "metadata": {},
     "output_type": "execute_result"
    }
   ],
   "source": [
    "coef_df = coef_weights(lm_model.coef_, X_train)\n",
    "coef_df.head()"
   ]
  },
  {
   "cell_type": "code",
   "execution_count": 74,
   "id": "16a03d4c-4782-4251-b8e5-878d1ac38198",
   "metadata": {},
   "outputs": [
    {
     "data": {
      "text/html": [
       "<style  type=\"text/css\" >\n",
       "#T_2c34d_row0_col2{\n",
       "            width:  10em;\n",
       "             height:  80%;\n",
       "            background:  linear-gradient(90deg,#d65f5f 100.0%, transparent 100.0%);\n",
       "        }#T_2c34d_row1_col2{\n",
       "            width:  10em;\n",
       "             height:  80%;\n",
       "            background:  linear-gradient(90deg,#d65f5f 64.3%, transparent 64.3%);\n",
       "        }#T_2c34d_row2_col2{\n",
       "            width:  10em;\n",
       "             height:  80%;\n",
       "            background:  linear-gradient(90deg,#d65f5f 63.1%, transparent 63.1%);\n",
       "        }#T_2c34d_row3_col2{\n",
       "            width:  10em;\n",
       "             height:  80%;\n",
       "            background:  linear-gradient(90deg,#d65f5f 56.7%, transparent 56.7%);\n",
       "        }#T_2c34d_row4_col2{\n",
       "            width:  10em;\n",
       "             height:  80%;\n",
       "            background:  linear-gradient(90deg,#d65f5f 52.8%, transparent 52.8%);\n",
       "        }#T_2c34d_row5_col2{\n",
       "            width:  10em;\n",
       "             height:  80%;\n",
       "            background:  linear-gradient(90deg,#d65f5f 52.4%, transparent 52.4%);\n",
       "        }#T_2c34d_row6_col2{\n",
       "            width:  10em;\n",
       "             height:  80%;\n",
       "            background:  linear-gradient(90deg,#d65f5f 46.6%, transparent 46.6%);\n",
       "        }#T_2c34d_row7_col2{\n",
       "            width:  10em;\n",
       "             height:  80%;\n",
       "            background:  linear-gradient(90deg,#d65f5f 45.0%, transparent 45.0%);\n",
       "        }#T_2c34d_row8_col2{\n",
       "            width:  10em;\n",
       "             height:  80%;\n",
       "            background:  linear-gradient(90deg,#d65f5f 44.6%, transparent 44.6%);\n",
       "        }#T_2c34d_row9_col2{\n",
       "            width:  10em;\n",
       "             height:  80%;\n",
       "            background:  linear-gradient(90deg,#d65f5f 44.5%, transparent 44.5%);\n",
       "        }</style><table id=\"T_2c34d_\" ><thead>    <tr>        <th class=\"blank level0\" ></th>        <th class=\"col_heading level0 col0\" >est_int</th>        <th class=\"col_heading level0 col1\" >coefs</th>        <th class=\"col_heading level0 col2\" >abs_coefs</th>    </tr></thead><tbody>\n",
       "                <tr>\n",
       "                        <th id=\"T_2c34d_level0_row0\" class=\"row_heading level0 row0\" >20</th>\n",
       "                        <td id=\"T_2c34d_row0_col0\" class=\"data row0 col0\" >neighbourhood_Harvard Square</td>\n",
       "                        <td id=\"T_2c34d_row0_col1\" class=\"data row0 col1\" >-177.490863</td>\n",
       "                        <td id=\"T_2c34d_row0_col2\" class=\"data row0 col2\" >177.490863</td>\n",
       "            </tr>\n",
       "            <tr>\n",
       "                        <th id=\"T_2c34d_level0_row1\" class=\"row_heading level0 row1\" >15</th>\n",
       "                        <td id=\"T_2c34d_row1_col0\" class=\"data row1 col0\" >neighbourhood_Downtown Crossing</td>\n",
       "                        <td id=\"T_2c34d_row1_col1\" class=\"data row1 col1\" >114.157138</td>\n",
       "                        <td id=\"T_2c34d_row1_col2\" class=\"data row1 col2\" >114.157138</td>\n",
       "            </tr>\n",
       "            <tr>\n",
       "                        <th id=\"T_2c34d_level0_row2\" class=\"row_heading level0 row2\" >18</th>\n",
       "                        <td id=\"T_2c34d_row2_col0\" class=\"data row2 col0\" >neighbourhood_Financial District</td>\n",
       "                        <td id=\"T_2c34d_row2_col1\" class=\"data row2 col1\" >111.947424</td>\n",
       "                        <td id=\"T_2c34d_row2_col2\" class=\"data row2 col2\" >111.947424</td>\n",
       "            </tr>\n",
       "            <tr>\n",
       "                        <th id=\"T_2c34d_level0_row3\" class=\"row_heading level0 row3\" >17</th>\n",
       "                        <td id=\"T_2c34d_row3_col0\" class=\"data row3 col0\" >neighbourhood_Fenway/Kenmore</td>\n",
       "                        <td id=\"T_2c34d_row3_col1\" class=\"data row3 col1\" >100.678897</td>\n",
       "                        <td id=\"T_2c34d_row3_col2\" class=\"data row3 col2\" >100.678897</td>\n",
       "            </tr>\n",
       "            <tr>\n",
       "                        <th id=\"T_2c34d_level0_row4\" class=\"row_heading level0 row4\" >6</th>\n",
       "                        <td id=\"T_2c34d_row4_col0\" class=\"data row4 col0\" >neighbourhood_Back Bay</td>\n",
       "                        <td id=\"T_2c34d_row4_col1\" class=\"data row4 col1\" >93.764680</td>\n",
       "                        <td id=\"T_2c34d_row4_col2\" class=\"data row4 col2\" >93.764680</td>\n",
       "            </tr>\n",
       "            <tr>\n",
       "                        <th id=\"T_2c34d_level0_row5\" class=\"row_heading level0 row5\" >23</th>\n",
       "                        <td id=\"T_2c34d_row5_col0\" class=\"data row5 col0\" >neighbourhood_Leather District</td>\n",
       "                        <td id=\"T_2c34d_row5_col1\" class=\"data row5 col1\" >93.036452</td>\n",
       "                        <td id=\"T_2c34d_row5_col2\" class=\"data row5 col2\" >93.036452</td>\n",
       "            </tr>\n",
       "            <tr>\n",
       "                        <th id=\"T_2c34d_level0_row6\" class=\"row_heading level0 row6\" >32</th>\n",
       "                        <td id=\"T_2c34d_row6_col0\" class=\"data row6 col0\" >neighbourhood_Theater District</td>\n",
       "                        <td id=\"T_2c34d_row6_col1\" class=\"data row6 col1\" >82.770913</td>\n",
       "                        <td id=\"T_2c34d_row6_col2\" class=\"data row6 col2\" >82.770913</td>\n",
       "            </tr>\n",
       "            <tr>\n",
       "                        <th id=\"T_2c34d_level0_row7\" class=\"row_heading level0 row7\" >7</th>\n",
       "                        <td id=\"T_2c34d_row7_col0\" class=\"data row7 col0\" >neighbourhood_Beacon Hill</td>\n",
       "                        <td id=\"T_2c34d_row7_col1\" class=\"data row7 col1\" >79.942061</td>\n",
       "                        <td id=\"T_2c34d_row7_col2\" class=\"data row7 col2\" >79.942061</td>\n",
       "            </tr>\n",
       "            <tr>\n",
       "                        <th id=\"T_2c34d_level0_row8\" class=\"row_heading level0 row8\" >30</th>\n",
       "                        <td id=\"T_2c34d_row8_col0\" class=\"data row8 col0\" >neighbourhood_South Boston</td>\n",
       "                        <td id=\"T_2c34d_row8_col1\" class=\"data row8 col1\" >79.156056</td>\n",
       "                        <td id=\"T_2c34d_row8_col2\" class=\"data row8 col2\" >79.156056</td>\n",
       "            </tr>\n",
       "            <tr>\n",
       "                        <th id=\"T_2c34d_level0_row9\" class=\"row_heading level0 row9\" >45</th>\n",
       "                        <td id=\"T_2c34d_row9_col0\" class=\"data row9 col0\" >property_type_Other</td>\n",
       "                        <td id=\"T_2c34d_row9_col1\" class=\"data row9 col1\" >79.002505</td>\n",
       "                        <td id=\"T_2c34d_row9_col2\" class=\"data row9 col2\" >79.002505</td>\n",
       "            </tr>\n",
       "    </tbody></table>"
      ],
      "text/plain": [
       "<pandas.io.formats.style.Styler at 0x291142243d0>"
      ]
     },
     "execution_count": 74,
     "metadata": {},
     "output_type": "execute_result"
    }
   ],
   "source": [
    "coef_df.head(10).style.bar(subset=['abs_coefs'], align='mid')"
   ]
  },
  {
   "cell_type": "code",
   "execution_count": 75,
   "id": "d5530f59-50d3-40ad-aa71-d3138eb6e06e",
   "metadata": {},
   "outputs": [
    {
     "data": {
      "text/plain": [
       "neighbourhood    30\n",
       "property         13\n",
       "room              3\n",
       "beds              1\n",
       "guests            1\n",
       "accommodates      1\n",
       "bedrooms          1\n",
       "host              1\n",
       "bathrooms         1\n",
       "Name: est_int, dtype: int64"
      ]
     },
     "execution_count": 75,
     "metadata": {},
     "output_type": "execute_result"
    }
   ],
   "source": [
    "coef_df.est_int.str.split('_').apply(lambda label: label[0]).value_counts() # just collecting the field names and verifying thier frequency"
   ]
  },
  {
   "cell_type": "code",
   "execution_count": 76,
   "id": "828f69eb-6055-42b6-9f52-b6d49c9a332e",
   "metadata": {},
   "outputs": [
    {
     "data": {
      "text/plain": [
       "<AxesSubplot:ylabel='est_int'>"
      ]
     },
     "execution_count": 76,
     "metadata": {},
     "output_type": "execute_result"
    },
    {
     "data": {
      "image/png": "[encoded data removed]",
      "text/plain": [
       "<Figure size 432x288 with 1 Axes>"
      ]
     },
     "metadata": {},
     "output_type": "display_data"
    }
   ],
   "source": [
    "coef_df.est_int.str.split('_').apply(lambda label: label[0]).value_counts().plot(kind=\"pie\")"
   ]
  },
  {
   "cell_type": "markdown",
   "id": "66261f09-3620-47c1-9e76-d8fe501d0723",
   "metadata": {},
   "source": [
    "#### **Explanation**\n",
    "---\n",
    "\n",
    "##### **Which fields most influence rental prices?**\n",
    "\n",
    "Would you be able to predict the price of accommodation based only on the *neighborhood*, *type of property*, *type of room*, *number of rooms*, *bathrooms* and *beds*, and how long the host is on business? And what influence do these fields have on price? 30% of the values ​​were separated for tests and the **Price prediction** regression graph shows the comparison of the actual values ​​with the prediction. The values ​​do not fully match, but the trend lines slope closely together, supporting a prediction closer to the true value. From the table presented, we can also see that the *neighborhood* is the field that most influences the price, followed by the type of *property* and *room*."
   ]
  },
  {
   "cell_type": "code",
   "execution_count": 77,
   "id": "28a98d22-a1c9-4be0-8406-889801645f61",
   "metadata": {},
   "outputs": [
    {
     "data": {
      "text/html": [
       "<div>\n",
       "<style scoped>\n",
       "    .dataframe tbody tr th:only-of-type {\n",
       "        vertical-align: middle;\n",
       "    }\n",
       "\n",
       "    .dataframe tbody tr th {\n",
       "        vertical-align: top;\n",
       "    }\n",
       "\n",
       "    .dataframe thead th {\n",
       "        text-align: right;\n",
       "    }\n",
       "</style>\n",
       "<table border=\"1\" class=\"dataframe\">\n",
       "  <thead>\n",
       "    <tr style=\"text-align: right;\">\n",
       "      <th></th>\n",
       "      <th>id</th>\n",
       "      <th>neighbourhood</th>\n",
       "      <th>price</th>\n",
       "      <th>review_scores_rating</th>\n",
       "      <th>review_scores_accuracy</th>\n",
       "      <th>review_scores_cleanliness</th>\n",
       "      <th>review_scores_checkin</th>\n",
       "      <th>review_scores_communication</th>\n",
       "      <th>review_scores_location</th>\n",
       "      <th>review_scores_value</th>\n",
       "      <th>comments</th>\n",
       "    </tr>\n",
       "  </thead>\n",
       "  <tbody>\n",
       "    <tr>\n",
       "      <th>0</th>\n",
       "      <td>1178162</td>\n",
       "      <td>East Boston</td>\n",
       "      <td>95.0</td>\n",
       "      <td>86.0</td>\n",
       "      <td>9.0</td>\n",
       "      <td>9.0</td>\n",
       "      <td>9.0</td>\n",
       "      <td>9.0</td>\n",
       "      <td>8.0</td>\n",
       "      <td>9.0</td>\n",
       "      <td>My stay at islam's place was really cool! Good...</td>\n",
       "    </tr>\n",
       "    <tr>\n",
       "      <th>1</th>\n",
       "      <td>1178162</td>\n",
       "      <td>East Boston</td>\n",
       "      <td>95.0</td>\n",
       "      <td>86.0</td>\n",
       "      <td>9.0</td>\n",
       "      <td>9.0</td>\n",
       "      <td>9.0</td>\n",
       "      <td>9.0</td>\n",
       "      <td>8.0</td>\n",
       "      <td>9.0</td>\n",
       "      <td>Great location for both airport and city - gre...</td>\n",
       "    </tr>\n",
       "    <tr>\n",
       "      <th>2</th>\n",
       "      <td>1178162</td>\n",
       "      <td>East Boston</td>\n",
       "      <td>95.0</td>\n",
       "      <td>86.0</td>\n",
       "      <td>9.0</td>\n",
       "      <td>9.0</td>\n",
       "      <td>9.0</td>\n",
       "      <td>9.0</td>\n",
       "      <td>8.0</td>\n",
       "      <td>9.0</td>\n",
       "      <td>We really enjoyed our stay at Islams house. Fr...</td>\n",
       "    </tr>\n",
       "    <tr>\n",
       "      <th>3</th>\n",
       "      <td>1178162</td>\n",
       "      <td>East Boston</td>\n",
       "      <td>95.0</td>\n",
       "      <td>86.0</td>\n",
       "      <td>9.0</td>\n",
       "      <td>9.0</td>\n",
       "      <td>9.0</td>\n",
       "      <td>9.0</td>\n",
       "      <td>8.0</td>\n",
       "      <td>9.0</td>\n",
       "      <td>The room was nice and clean and so were the co...</td>\n",
       "    </tr>\n",
       "    <tr>\n",
       "      <th>4</th>\n",
       "      <td>1178162</td>\n",
       "      <td>East Boston</td>\n",
       "      <td>95.0</td>\n",
       "      <td>86.0</td>\n",
       "      <td>9.0</td>\n",
       "      <td>9.0</td>\n",
       "      <td>9.0</td>\n",
       "      <td>9.0</td>\n",
       "      <td>8.0</td>\n",
       "      <td>9.0</td>\n",
       "      <td>Great location. Just 5 mins walk from the Airp...</td>\n",
       "    </tr>\n",
       "  </tbody>\n",
       "</table>\n",
       "</div>"
      ],
      "text/plain": [
       "        id neighbourhood  price  review_scores_rating  review_scores_accuracy  \\\n",
       "0  1178162   East Boston   95.0                  86.0                     9.0   \n",
       "1  1178162   East Boston   95.0                  86.0                     9.0   \n",
       "2  1178162   East Boston   95.0                  86.0                     9.0   \n",
       "3  1178162   East Boston   95.0                  86.0                     9.0   \n",
       "4  1178162   East Boston   95.0                  86.0                     9.0   \n",
       "\n",
       "   review_scores_cleanliness  review_scores_checkin  \\\n",
       "0                        9.0                    9.0   \n",
       "1                        9.0                    9.0   \n",
       "2                        9.0                    9.0   \n",
       "3                        9.0                    9.0   \n",
       "4                        9.0                    9.0   \n",
       "\n",
       "   review_scores_communication  review_scores_location  review_scores_value  \\\n",
       "0                          9.0                     8.0                  9.0   \n",
       "1                          9.0                     8.0                  9.0   \n",
       "2                          9.0                     8.0                  9.0   \n",
       "3                          9.0                     8.0                  9.0   \n",
       "4                          9.0                     8.0                  9.0   \n",
       "\n",
       "                                            comments  \n",
       "0  My stay at islam's place was really cool! Good...  \n",
       "1  Great location for both airport and city - gre...  \n",
       "2  We really enjoyed our stay at Islams house. Fr...  \n",
       "3  The room was nice and clean and so were the co...  \n",
       "4  Great location. Just 5 mins walk from the Airp...  "
      ]
     },
     "execution_count": 77,
     "metadata": {},
     "output_type": "execute_result"
    }
   ],
   "source": [
    "listings_reviews.head()"
   ]
  },
  {
   "cell_type": "code",
   "execution_count": 78,
   "id": "a6a9a65b-5696-47cc-ba01-8da45020d2ce",
   "metadata": {},
   "outputs": [
    {
     "data": {
      "text/plain": [
       "id                             0.000000\n",
       "neighbourhood                  0.000000\n",
       "price                          0.000000\n",
       "review_scores_rating           0.000000\n",
       "review_scores_accuracy         0.000000\n",
       "review_scores_cleanliness      0.000000\n",
       "review_scores_checkin          0.000000\n",
       "review_scores_communication    0.000000\n",
       "review_scores_location         0.000000\n",
       "review_scores_value            0.000000\n",
       "comments                       0.000675\n",
       "dtype: float64"
      ]
     },
     "execution_count": 78,
     "metadata": {},
     "output_type": "execute_result"
    }
   ],
   "source": [
    "listings_reviews.isnull().mean()"
   ]
  },
  {
   "cell_type": "code",
   "execution_count": 79,
   "id": "e9e1d78d-a011-48d4-8fc9-e6b57eda9baf",
   "metadata": {},
   "outputs": [],
   "source": [
    "listings_reviews['comments'].fillna('', inplace=True) # replace NaN values to use NLTK to predict the sentiment analysis"
   ]
  },
  {
   "cell_type": "code",
   "execution_count": 80,
   "id": "c652cd98-1f0a-404c-b563-93041cfea280",
   "metadata": {},
   "outputs": [
    {
     "data": {
      "text/plain": [
       "id                             0.0\n",
       "neighbourhood                  0.0\n",
       "price                          0.0\n",
       "review_scores_rating           0.0\n",
       "review_scores_accuracy         0.0\n",
       "review_scores_cleanliness      0.0\n",
       "review_scores_checkin          0.0\n",
       "review_scores_communication    0.0\n",
       "review_scores_location         0.0\n",
       "review_scores_value            0.0\n",
       "comments                       0.0\n",
       "dtype: float64"
      ]
     },
     "execution_count": 80,
     "metadata": {},
     "output_type": "execute_result"
    }
   ],
   "source": [
    "listings_reviews.isnull().mean()"
   ]
  },
  {
   "cell_type": "code",
   "execution_count": 81,
   "id": "79e87902-324a-4846-98bc-a8543204cb68",
   "metadata": {},
   "outputs": [],
   "source": [
    "def get_sentiment_score(comment: str):\n",
    "    '''\n",
    "    Function returns the percentage of feeling (negative, neutral and positive) of a comment based on the SentimentIntensityAnalyzer from the NLTK library\n",
    "    \n",
    "    Args:\n",
    "        - comment: str -> comments to be analyzed\n",
    "    \n",
    "    Returns: the percentage of feeling (negative, neutral and positive) in a dictionary or N/A for null comments\n",
    "    '''\n",
    "    if comment != '':\n",
    "        s_analyser = SentimentIntensityAnalyzer()\n",
    "        return s_analyser.polarity_scores(comment)\n",
    "    else:\n",
    "        return 'N/A'"
   ]
  },
  {
   "cell_type": "code",
   "execution_count": 82,
   "id": "5246b1b5-7266-43e9-bc5a-1e39312737af",
   "metadata": {},
   "outputs": [],
   "source": [
    "def get_reviews(comments: list, review_type: str) -> list:\n",
    "    '''\n",
    "    For each element in the processed list of words, separate those that have a positive or negative content, based on the function argument.\n",
    "    \n",
    "    Args:\n",
    "        - comments: list -> list of words\n",
    "        - review_type -> kind of feeling desired ('pos': positive comments, 'neg': negative comments)\n",
    "    \n",
    "    Returns: list with only comments with review_type category\n",
    "    '''\n",
    "    values = []\n",
    "    s_analyser = SentimentIntensityAnalyzer()\n",
    "    for word in comments:\n",
    "        result = s_analyser.polarity_scores(word)\n",
    "        if result[review_type] > 0.4:\n",
    "            values.append(word)\n",
    "\n",
    "    return values"
   ]
  },
  {
   "cell_type": "code",
   "execution_count": 83,
   "id": "fcfefea3-e880-4908-a282-9df7dfdce2e9",
   "metadata": {},
   "outputs": [],
   "source": [
    "# based on https://youtu.be/Ns2Adgcd3yE\n",
    "def process_data(text: str) -> list:\n",
    "    '''\n",
    "    clears unnecessary elements for evaluating the sentiment percentage in the text, such as punctuation and stopwords\n",
    "    \n",
    "    Args:\n",
    "        - text: str -> text to be analysed\n",
    "    \n",
    "    Returns: list of all lowercase and processed words\n",
    "    '''\n",
    "    no_punctuation = [letter for letter in text if letter not in string.punctuation] # eliminate punctuation\n",
    "    no_punctuation = ''.join(no_punctuation) # turn into single string again without punctuation\n",
    "    \n",
    "    return [word.lower() for word in no_punctuation.split() if word.lower() not in stopwords.words(\"english\")]"
   ]
  },
  {
   "cell_type": "code",
   "execution_count": 84,
   "id": "fdea678c-b1b2-4ce2-a683-6ffd993c0377",
   "metadata": {},
   "outputs": [],
   "source": [
    "# listings_reviews['clean_text'] = listings_reviews['comments'].apply(process_data)\n",
    "# listings_reviews['positive'] = listings_reviews['clean_text'].apply(lambda row: get_reviews(row, 'pos'))\n",
    "# listings_reviews['negative'] = listings_reviews['clean_text'].apply(lambda row: get_reviews(row, 'neg'))\n",
    "\n",
    "# the above procedure may take some time to process. If you want to avoid this, use the dataset below (data already processed)\n",
    "listings_reviews = pd.read_csv(\"listings_reviews.csv\", usecols=[\"positive\", \"negative\"])\n",
    "# lambda function: https://stackoverflow.com/questions/32742976/how-to-read-a-column-of-csv-as-dtype-list-using-pandas\n",
    "correct_formatting = lambda label: label.strip(\"[]\").replace(\"'\",\"\").split(\", \") # string -> list\n",
    "listings_reviews['positive'] = listings_reviews['positive'].apply(correct_formatting)\n",
    "listings_reviews['negative'] = listings_reviews['negative'].apply(correct_formatting)"
   ]
  },
  {
   "cell_type": "code",
   "execution_count": 85,
   "id": "95203544-0f7a-4174-a54a-9c9e92eb6af2",
   "metadata": {},
   "outputs": [
    {
     "data": {
      "text/html": [
       "<div>\n",
       "<style scoped>\n",
       "    .dataframe tbody tr th:only-of-type {\n",
       "        vertical-align: middle;\n",
       "    }\n",
       "\n",
       "    .dataframe tbody tr th {\n",
       "        vertical-align: top;\n",
       "    }\n",
       "\n",
       "    .dataframe thead th {\n",
       "        text-align: right;\n",
       "    }\n",
       "</style>\n",
       "<table border=\"1\" class=\"dataframe\">\n",
       "  <thead>\n",
       "    <tr style=\"text-align: right;\">\n",
       "      <th></th>\n",
       "      <th>positive</th>\n",
       "      <th>negative</th>\n",
       "    </tr>\n",
       "  </thead>\n",
       "  <tbody>\n",
       "    <tr>\n",
       "      <th>0</th>\n",
       "      <td>[cool, good, nice, clean, pretty, well]</td>\n",
       "      <td>[]</td>\n",
       "    </tr>\n",
       "    <tr>\n",
       "      <th>1</th>\n",
       "      <td>[great, great, helpful]</td>\n",
       "      <td>[]</td>\n",
       "    </tr>\n",
       "    <tr>\n",
       "      <th>2</th>\n",
       "      <td>[enjoyed, inviting, nice, prepared, share, fin...</td>\n",
       "      <td>[problem]</td>\n",
       "    </tr>\n",
       "    <tr>\n",
       "      <th>3</th>\n",
       "      <td>[nice, clean, safe, helpful, recommend]</td>\n",
       "      <td>[]</td>\n",
       "    </tr>\n",
       "    <tr>\n",
       "      <th>4</th>\n",
       "      <td>[great, good, clean]</td>\n",
       "      <td>[]</td>\n",
       "    </tr>\n",
       "    <tr>\n",
       "      <th>...</th>\n",
       "      <td>...</td>\n",
       "      <td>...</td>\n",
       "    </tr>\n",
       "    <tr>\n",
       "      <th>60766</th>\n",
       "      <td>[perfect, easy, excellently, recommended]</td>\n",
       "      <td>[]</td>\n",
       "    </tr>\n",
       "    <tr>\n",
       "      <th>60767</th>\n",
       "      <td>[great, recommend, perfect]</td>\n",
       "      <td>[]</td>\n",
       "    </tr>\n",
       "    <tr>\n",
       "      <th>60768</th>\n",
       "      <td>[enjoyed, great, easy, reach, pleasant, beauti...</td>\n",
       "      <td>[]</td>\n",
       "    </tr>\n",
       "    <tr>\n",
       "      <th>60769</th>\n",
       "      <td>[jewel, hope, easy, fantastic, enjoy, definite...</td>\n",
       "      <td>[]</td>\n",
       "    </tr>\n",
       "    <tr>\n",
       "      <th>60770</th>\n",
       "      <td>[perfect, great, relax, responsive, kind]</td>\n",
       "      <td>[]</td>\n",
       "    </tr>\n",
       "  </tbody>\n",
       "</table>\n",
       "<p>60771 rows × 2 columns</p>\n",
       "</div>"
      ],
      "text/plain": [
       "                                                positive   negative\n",
       "0                [cool, good, nice, clean, pretty, well]         []\n",
       "1                                [great, great, helpful]         []\n",
       "2      [enjoyed, inviting, nice, prepared, share, fin...  [problem]\n",
       "3                [nice, clean, safe, helpful, recommend]         []\n",
       "4                                   [great, good, clean]         []\n",
       "...                                                  ...        ...\n",
       "60766          [perfect, easy, excellently, recommended]         []\n",
       "60767                        [great, recommend, perfect]         []\n",
       "60768  [enjoyed, great, easy, reach, pleasant, beauti...         []\n",
       "60769  [jewel, hope, easy, fantastic, enjoy, definite...         []\n",
       "60770          [perfect, great, relax, responsive, kind]         []\n",
       "\n",
       "[60771 rows x 2 columns]"
      ]
     },
     "execution_count": 85,
     "metadata": {},
     "output_type": "execute_result"
    }
   ],
   "source": [
    "listings_reviews[['positive', 'negative']]"
   ]
  },
  {
   "cell_type": "code",
   "execution_count": 114,
   "id": "8519f885-4044-49eb-8708-c626fcd9ac74",
   "metadata": {},
   "outputs": [],
   "source": [
    "positives = []\n",
    "for label in listings_reviews['positive']:\n",
    "    if label != ['']:\n",
    "        positives.extend(label)\n",
    "    \n",
    "negatives = []\n",
    "for label in listings_reviews['negative']:\n",
    "    if label != ['']:\n",
    "        negatives.extend(label)"
   ]
  },
  {
   "cell_type": "code",
   "execution_count": 115,
   "id": "e564ba7a-037c-4fe7-a126-2dabdba4da1f",
   "metadata": {},
   "outputs": [],
   "source": [
    "frequency_positives = FreqDist(positives) # frequency of each positive word\n",
    "frequency_negatives = FreqDist(negatives) # frequency of each negative word"
   ]
  },
  {
   "cell_type": "code",
   "execution_count": 116,
   "id": "e920e6c9-6331-4770-896f-58e31071f385",
   "metadata": {},
   "outputs": [
    {
     "data": {
      "image/png": "[encoded data removed]",
      "text/plain": [
       "<Figure size 432x288 with 1 Axes>"
      ]
     },
     "metadata": {
      "needs_background": "light"
     },
     "output_type": "display_data"
    },
    {
     "data": {
      "image/png": "[encoded data removed]",
      "text/plain": [
       "<Figure size 432x288 with 1 Axes>"
      ]
     },
     "metadata": {
      "needs_background": "light"
     },
     "output_type": "display_data"
    }
   ],
   "source": [
    "plt.figure(1)\n",
    "frequency_positives.plot(10, cumulative=False); # show the 10 positive fields that appeared the most in the comments\n",
    "\n",
    "plt.figure(2)\n",
    "frequency_negatives.plot(10, cumulative=False); # show the 10 negative fields that appeared the most in the comments"
   ]
  },
  {
   "cell_type": "code",
   "execution_count": 117,
   "id": "b3de20ba-a9ca-43dc-92b1-aefa0c150c6b",
   "metadata": {},
   "outputs": [
    {
     "data": {
      "image/png": "[encoded data removed]",
      "text/plain": [
       "<Figure size 432x288 with 1 Axes>"
      ]
     },
     "metadata": {
      "needs_background": "light"
     },
     "output_type": "display_data"
    }
   ],
   "source": [
    "# present the positive words in a different perspective (in WordCloud)\n",
    "wc_positive = WordCloud(background_color=\"white\").generate(' '.join(frequency_positives))\n",
    "plt.imshow(wc_positive, interpolation='bilinear')\n",
    "plt.title(\"Frequency of positive words\")\n",
    "plt.axis(\"off\")\n",
    "plt.show()"
   ]
  },
  {
   "cell_type": "code",
   "execution_count": 118,
   "id": "9585bea6-c9e8-47e3-a5fe-7dc829005d23",
   "metadata": {},
   "outputs": [
    {
     "data": {
      "image/png": "[encoded data removed]",
      "text/plain": [
       "<Figure size 432x288 with 1 Axes>"
      ]
     },
     "metadata": {
      "needs_background": "light"
     },
     "output_type": "display_data"
    }
   ],
   "source": [
    "# present the negative words in a different perspective (in WordCloud)\n",
    "wc_negative = WordCloud(background_color=\"white\").generate(' '.join(frequency_negatives))\n",
    "plt.imshow(wc_negative, interpolation='bilinear')\n",
    "plt.title(\"Frequency of negative words\")\n",
    "plt.axis(\"off\")\n",
    "plt.show()"
   ]
  },
  {
   "cell_type": "markdown",
   "id": "dc7d739c-fca6-48ca-b122-2486b12c7241",
   "metadata": {},
   "source": [
    "##### **Bonus: but after all, what do customers have to say?**\n",
    "\n",
    "The analysis through customer ratings was not very effective as the comments sometimes did not correspond with the review scores given. That's why it was necessary to comb through each comment and evaluate the positive and negative feelings they expressed. Fortunately the positive results corresponded to most of the comments made and words like *'perfect'*, *'warm'*, *'clear'*, *'care'* and *'love'*, for example, can be seen in the figure **Frequency of positive words**, but it hasn' t all been good. In **Frequency of negative words** we can observe words like *'problem'*, *'bother'*, *'trouble'*, or even worse like *'rob'*, *'cut'* and *'pain'*. So find out more about where you will be staying to avoid frustrating experiences."
   ]
  },
  {
   "cell_type": "code",
   "execution_count": null,
   "id": "e0935f9f-12fc-4ee6-a801-d62113125c00",
   "metadata": {},
   "outputs": [],
   "source": []
  }
 ],
 "metadata": {
  "kernelspec": {
   "display_name": "Python 3",
   "language": "python",
   "name": "python3"
  },
  "language_info": {
   "codemirror_mode": {
    "name": "ipython",
    "version": 3
   },
   "file_extension": ".py",
   "mimetype": "text/x-python",
   "name": "python",
   "nbconvert_exporter": "python",
   "pygments_lexer": "ipython3",
   "version": "3.8.10"
  }
 },
 "nbformat": 4,
 "nbformat_minor": 5
}
